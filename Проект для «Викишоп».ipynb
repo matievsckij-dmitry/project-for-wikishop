{
 "cells": [
  {
   "cell_type": "markdown",
   "metadata": {
    "toc": true
   },
   "source": [
    "<h1>Содержание<span class=\"tocSkip\"></span></h1>\n",
    "<div class=\"toc\"><ul class=\"toc-item\"><li><span><a href=\"#Загрузка-и-предобработка-данных\" data-toc-modified-id=\"Загрузка-и-предобработка-данных-1\"><span class=\"toc-item-num\">1&nbsp;&nbsp;</span>Загрузка и предобработка данных</a></span><ul class=\"toc-item\"><li><span><a href=\"#Загрузка\" data-toc-modified-id=\"Загрузка-1.1\"><span class=\"toc-item-num\">1.1&nbsp;&nbsp;</span>Загрузка</a></span></li><li><span><a href=\"#Предобработка-текста\" data-toc-modified-id=\"Предобработка-текста-1.2\"><span class=\"toc-item-num\">1.2&nbsp;&nbsp;</span>Предобработка текста</a></span></li></ul></li><li><span><a href=\"#Обучение-моделей\" data-toc-modified-id=\"Обучение-моделей-2\"><span class=\"toc-item-num\">2&nbsp;&nbsp;</span>Обучение моделей</a></span></li><li><span><a href=\"#Оценка-качества-и-выбор-лучшей-модели\" data-toc-modified-id=\"Оценка-качества-и-выбор-лучшей-модели-3\"><span class=\"toc-item-num\">3&nbsp;&nbsp;</span>Оценка качества и выбор лучшей модели</a></span></li><li><span><a href=\"#Формулирование-выводов\" data-toc-modified-id=\"Формулирование-выводов-4\"><span class=\"toc-item-num\">4&nbsp;&nbsp;</span>Формулирование выводов</a></span></li><li><span><a href=\"#Чек-лист-проверки\" data-toc-modified-id=\"Чек-лист-проверки-5\"><span class=\"toc-item-num\">5&nbsp;&nbsp;</span>Чек-лист проверки</a></span></li></ul></div>"
   ]
  },
  {
   "cell_type": "markdown",
   "metadata": {},
   "source": [
    "# Проект для «Викишоп»"
   ]
  },
  {
   "cell_type": "markdown",
   "metadata": {},
   "source": [
    "**Введение:**\n",
    "\n",
    "Интернет-магазин \"Викишоп\" внедряет инновационный сервис, предоставляющий пользователям возможность редактировать и дополнять описания товаров, аналогично вики-сообществам. Клиенты смогут предлагать свои правки и комментировать изменения, внесенные другими пользователями. Для обеспечения качества контента и поддержания дружелюбной атмосферы \"Викишопу\" необходим инструмент, способный автоматически распознавать токсичные комментарии и направлять их на модерацию.\n",
    "\n",
    "**Цель проекта:**\n",
    "\n",
    "Разработать и обучить модель машинного обучения, классифицирующую комментарии на позитивные и негативные (токсичные). Модель должна обеспечивать хорошее качество классификации, достигая значения метрики *F1* не менее 0.75.\n",
    "\n",
    "**Задачи проекта:**\n",
    "\n",
    "1. **Загрузка и предобработка данных**: Загрузить предоставленный набор данных, содержащий тексты комментариев и метки токсичности. Выполнить предобработку данных, включающую очистку текста, токенизацию, удаление стоп-слов, лемматизацию и векторизацию.\n",
    "2. **Обучение моделей**: Обучить различные модели машинного обучения для решения задачи классификации.\n",
    "3. **Оценка качества и выбор лучшей модели**: Оценить качество обученных моделей на тестовой выборке, используя метрику *F1*. Сравнить результаты и выбрать модель, демонстрирующую наилучшее качество.\n",
    "4. **Формулирование выводов**: Подвести итоги проделанной работы, описать достигнутые результаты, а также потенциальные улучшения и направления для дальнейших исследований.\n",
    "\n",
    "**Данные:**\n",
    "\n",
    "Предоставленный набор данных toxic_comments.csv содержит два столбца:\n",
    "\n",
    "*   text: Текст комментария на английском языке.\n",
    "*   toxic: Целевой признак, бинарная метка, обозначающая токсичность комментария (1 - токсичный, 0 - нетоксичный)."
   ]
  },
  {
   "cell_type": "markdown",
   "metadata": {},
   "source": [
    "**Библиотеки**"
   ]
  },
  {
   "cell_type": "code",
   "execution_count": 1,
   "metadata": {},
   "outputs": [],
   "source": [
    "import numpy as np\n",
    "import pandas as pd\n",
    "import matplotlib.pyplot as plt\n",
    "import seaborn as sns\n",
    "import re\n",
    "import nltk\n",
    "import os\n",
    "import time\n",
    "import warnings\n",
    "\n",
    "from nltk import pos_tag\n",
    "from nltk.tokenize import word_tokenize\n",
    "from nltk.corpus import stopwords, wordnet\n",
    "from nltk.stem import WordNetLemmatizer\n",
    "from sklearn.feature_extraction.text import TfidfVectorizer\n",
    "\n",
    "from sklearn.utils import shuffle\n",
    "from sklearn.model_selection import train_test_split, RandomizedSearchCV, StratifiedKFold\n",
    "from sklearn.metrics import f1_score, confusion_matrix\n",
    "\n",
    "from sklearn.linear_model import LogisticRegression\n",
    "from sklearn.neighbors import KNeighborsClassifier\n",
    "from sklearn.tree import DecisionTreeClassifier\n",
    "\n",
    "from tqdm import notebook \n",
    "\n",
    "warnings.filterwarnings(\"ignore\")"
   ]
  },
  {
   "cell_type": "markdown",
   "metadata": {},
   "source": [
    "**Константы**"
   ]
  },
  {
   "cell_type": "code",
   "execution_count": 2,
   "metadata": {},
   "outputs": [],
   "source": [
    "RANDOM_STATE = 42"
   ]
  },
  {
   "cell_type": "markdown",
   "metadata": {},
   "source": [
    "## Загрузка и предобработка данных"
   ]
  },
  {
   "cell_type": "markdown",
   "metadata": {},
   "source": [
    "### Загрузка"
   ]
  },
  {
   "cell_type": "code",
   "execution_count": 3,
   "metadata": {},
   "outputs": [],
   "source": [
    "pth1 = 'toxic_comments.csv'\n",
    "pth2 = '/datasets/toxic_comments.csv'\n",
    "\n",
    "if os.path.exists(pth1):\n",
    "    df = pd.read_csv(pth1)\n",
    "elif os.path.exists(pth2):\n",
    "    df = pd.read_csv(pth2)\n",
    "else:\n",
    "    print('Something is wrong')"
   ]
  },
  {
   "cell_type": "code",
   "execution_count": 4,
   "metadata": {},
   "outputs": [
    {
     "data": {
      "text/html": [
       "<div>\n",
       "<style scoped>\n",
       "    .dataframe tbody tr th:only-of-type {\n",
       "        vertical-align: middle;\n",
       "    }\n",
       "\n",
       "    .dataframe tbody tr th {\n",
       "        vertical-align: top;\n",
       "    }\n",
       "\n",
       "    .dataframe thead th {\n",
       "        text-align: right;\n",
       "    }\n",
       "</style>\n",
       "<table border=\"1\" class=\"dataframe\">\n",
       "  <thead>\n",
       "    <tr style=\"text-align: right;\">\n",
       "      <th></th>\n",
       "      <th>Unnamed: 0</th>\n",
       "      <th>text</th>\n",
       "      <th>toxic</th>\n",
       "    </tr>\n",
       "  </thead>\n",
       "  <tbody>\n",
       "    <tr>\n",
       "      <th>0</th>\n",
       "      <td>0</td>\n",
       "      <td>Explanation\\nWhy the edits made under my usern...</td>\n",
       "      <td>0</td>\n",
       "    </tr>\n",
       "    <tr>\n",
       "      <th>1</th>\n",
       "      <td>1</td>\n",
       "      <td>D'aww! He matches this background colour I'm s...</td>\n",
       "      <td>0</td>\n",
       "    </tr>\n",
       "    <tr>\n",
       "      <th>2</th>\n",
       "      <td>2</td>\n",
       "      <td>Hey man, I'm really not trying to edit war. It...</td>\n",
       "      <td>0</td>\n",
       "    </tr>\n",
       "  </tbody>\n",
       "</table>\n",
       "</div>"
      ],
      "text/plain": [
       "   Unnamed: 0                                               text  toxic\n",
       "0           0  Explanation\\nWhy the edits made under my usern...      0\n",
       "1           1  D'aww! He matches this background colour I'm s...      0\n",
       "2           2  Hey man, I'm really not trying to edit war. It...      0"
      ]
     },
     "execution_count": 4,
     "metadata": {},
     "output_type": "execute_result"
    }
   ],
   "source": [
    "df.head(3)"
   ]
  },
  {
   "cell_type": "code",
   "execution_count": 5,
   "metadata": {},
   "outputs": [
    {
     "data": {
      "text/html": [
       "<div>\n",
       "<style scoped>\n",
       "    .dataframe tbody tr th:only-of-type {\n",
       "        vertical-align: middle;\n",
       "    }\n",
       "\n",
       "    .dataframe tbody tr th {\n",
       "        vertical-align: top;\n",
       "    }\n",
       "\n",
       "    .dataframe thead th {\n",
       "        text-align: right;\n",
       "    }\n",
       "</style>\n",
       "<table border=\"1\" class=\"dataframe\">\n",
       "  <thead>\n",
       "    <tr style=\"text-align: right;\">\n",
       "      <th></th>\n",
       "      <th>Unnamed: 0</th>\n",
       "      <th>text</th>\n",
       "      <th>toxic</th>\n",
       "    </tr>\n",
       "  </thead>\n",
       "  <tbody>\n",
       "    <tr>\n",
       "      <th>159289</th>\n",
       "      <td>159448</td>\n",
       "      <td>Spitzer \\n\\nUmm, theres no actual article for ...</td>\n",
       "      <td>0</td>\n",
       "    </tr>\n",
       "    <tr>\n",
       "      <th>159290</th>\n",
       "      <td>159449</td>\n",
       "      <td>And it looks like it was actually you who put ...</td>\n",
       "      <td>0</td>\n",
       "    </tr>\n",
       "    <tr>\n",
       "      <th>159291</th>\n",
       "      <td>159450</td>\n",
       "      <td>\"\\nAnd ... I really don't think you understand...</td>\n",
       "      <td>0</td>\n",
       "    </tr>\n",
       "  </tbody>\n",
       "</table>\n",
       "</div>"
      ],
      "text/plain": [
       "        Unnamed: 0                                               text  toxic\n",
       "159289      159448  Spitzer \\n\\nUmm, theres no actual article for ...      0\n",
       "159290      159449  And it looks like it was actually you who put ...      0\n",
       "159291      159450  \"\\nAnd ... I really don't think you understand...      0"
      ]
     },
     "execution_count": 5,
     "metadata": {},
     "output_type": "execute_result"
    }
   ],
   "source": [
    "df.tail(3)"
   ]
  },
  {
   "cell_type": "markdown",
   "metadata": {},
   "source": [
    "Загрузка данных прошла успешно. В датафрейме присутствуют три колонки. Колонка \"Unnamed: 0\", судя по названию, содержит неизвестные данные, и её, вероятно, следует удалить в будущем. Колонка \"text\", как и указано в описании, содержит текст. Целевой признак находится в колонке \"toxic\", что также соответствует описанию."
   ]
  },
  {
   "cell_type": "markdown",
   "metadata": {},
   "source": [
    "Важно учесть, что в комментариях встречаются символы переноса строки (\"\\\\n\"), текст написан в разных регистрах, а также присутствуют стоп-слова. Следовательно, потребуется предварительная обработка текста."
   ]
  },
  {
   "cell_type": "code",
   "execution_count": 6,
   "metadata": {},
   "outputs": [
    {
     "name": "stdout",
     "output_type": "stream",
     "text": [
      "<class 'pandas.core.frame.DataFrame'>\n",
      "RangeIndex: 159292 entries, 0 to 159291\n",
      "Data columns (total 3 columns):\n",
      " #   Column      Non-Null Count   Dtype \n",
      "---  ------      --------------   ----- \n",
      " 0   Unnamed: 0  159292 non-null  int64 \n",
      " 1   text        159292 non-null  object\n",
      " 2   toxic       159292 non-null  int64 \n",
      "dtypes: int64(2), object(1)\n",
      "memory usage: 3.6+ MB\n"
     ]
    }
   ],
   "source": [
    "df.info()"
   ]
  },
  {
   "cell_type": "markdown",
   "metadata": {},
   "source": [
    "Датасет содержит 159 292 комментария. Пропущенные значения отсутствуют. Типы данных в каждой колонке соответствуют ожидаемым."
   ]
  },
  {
   "cell_type": "code",
   "execution_count": 7,
   "metadata": {},
   "outputs": [
    {
     "data": {
      "text/plain": [
       "0"
      ]
     },
     "execution_count": 7,
     "metadata": {},
     "output_type": "execute_result"
    }
   ],
   "source": [
    "df.duplicated().sum()"
   ]
  },
  {
   "cell_type": "markdown",
   "metadata": {},
   "source": [
    "В данных дубликаты отсутствуют."
   ]
  },
  {
   "cell_type": "markdown",
   "metadata": {},
   "source": [
    "Посмотрим соотношение классов в целевой переменной. Для этого создадим функцию get_grafic(df, target), которая будет визуализировать соотношение меток классов.\n",
    "\n",
    "Функция get_grafic(df, target) принимает два аргумента:\n",
    "\n",
    "*   df:  Датафрейм, в котором содержится целевая переменная.\n",
    "*   target: Название столбца (признака) в датафрейме df, который содержит метки классов. "
   ]
  },
  {
   "cell_type": "code",
   "execution_count": 8,
   "metadata": {},
   "outputs": [],
   "source": [
    "def get_grafic(df, target):    \n",
    "    sns.set_style(\"whitegrid\")\n",
    "    plt.figure(figsize=(8, 6))\n",
    "\n",
    "    ax = sns.countplot(x=target, data=df, palette=\"pastel\")\n",
    "\n",
    "    for p in ax.patches:\n",
    "        ax.annotate(f'{p.get_height()}', (p.get_x() + p.get_width() / 2., p.get_height()),\n",
    "                    ha='center', va='center', xytext=(0, 10), textcoords='offset points', fontsize=12)\n",
    "\n",
    "    plt.title('Распределение токсичности комментариев', fontsize=16, fontweight='bold')\n",
    "    plt.xlabel('', fontsize=14)\n",
    "    plt.ylabel('Количество комментариев', fontsize=14)\n",
    "    plt.xticks([0, 1], ['Нетоксичные', 'Токсичные'], fontsize=12)\n",
    "\n",
    "    # Вычисление отношения классов 0 к 1\n",
    "    counts = df[target].value_counts()\n",
    "    count0 = counts.get(0, 0)\n",
    "    count1 = counts.get(1, 0)\n",
    "    \n",
    "    if count1 != 0:\n",
    "        ratio = count0 / count1\n",
    "        ratio_text = f'Отношение классов 0 к 1: {ratio:.1f} - 1'\n",
    "    else:\n",
    "        ratio_text = 'Отношение классов 0 к 1: Не определено'\n",
    "\n",
    "    # Добавление текста с отношением на график\n",
    "    plt.text(0.5, max(count0, count1)*0.9, ratio_text, \n",
    "             horizontalalignment='left', \n",
    "             fontsize=12, \n",
    "             bbox=dict(facecolor='white', alpha=0.5))\n",
    "    \n",
    "    sns.despine(left=True)\n",
    "    plt.tight_layout()\n",
    "\n",
    "    plt.show()"
   ]
  },
  {
   "cell_type": "code",
   "execution_count": 9,
   "metadata": {},
   "outputs": [
    {
     "data": {
      "image/png": "[encoded data removed]",
      "text/plain": [
       "<Figure size 576x432 with 1 Axes>"
      ]
     },
     "metadata": {},
     "output_type": "display_data"
    }
   ],
   "source": [
    "get_grafic(df, 'toxic')"
   ]
  },
  {
   "cell_type": "markdown",
   "metadata": {},
   "source": [
    "В данных наблюдается существенный дисбаланс классов: соотношение количества нетоксичных комментариев (класс 0) к токсичным (класс 1) составляет приблизительно 8,8 к 1. Такой дисбаланс может привести к тому, что модель будет плохо предсказывать минорный класс (токсичные комментарии), что негативно скажется на итоговой метрике. Поэтому при разделении данных на обучающую и тестовую выборки необходимо использовать стратификацию. Для дополнительного выравнивания баланса классов и улучшения качества обучения рекомендуется применять методы сэмплирования."
   ]
  },
  {
   "cell_type": "markdown",
   "metadata": {},
   "source": [
    "### Предобработка текста"
   ]
  },
  {
   "cell_type": "markdown",
   "metadata": {},
   "source": [
    "Переходим к предобработке текста, необходимой для обучения модели. Начнем с удаления признака, который не несет полезной информации для обучения."
   ]
  },
  {
   "cell_type": "code",
   "execution_count": 10,
   "metadata": {},
   "outputs": [],
   "source": [
    "df.drop('Unnamed: 0', axis=1, inplace=True)"
   ]
  },
  {
   "cell_type": "code",
   "execution_count": 11,
   "metadata": {},
   "outputs": [
    {
     "name": "stderr",
     "output_type": "stream",
     "text": [
      "[nltk_data] Downloading package stopwords to /home/jovyan/nltk_data...\n",
      "[nltk_data]   Package stopwords is already up-to-date!\n",
      "[nltk_data] Downloading package averaged_perceptron_tagger to\n",
      "[nltk_data]     /home/jovyan/nltk_data...\n",
      "[nltk_data]   Package averaged_perceptron_tagger is already up-to-\n",
      "[nltk_data]       date!\n"
     ]
    }
   ],
   "source": [
    "nltk.download('stopwords')\n",
    "nltk.download('averaged_perceptron_tagger')\n",
    "stop_words = set(stopwords.words('english'))\n",
    "lemmatizer = WordNetLemmatizer()"
   ]
  },
  {
   "cell_type": "markdown",
   "metadata": {},
   "source": [
    "Далее подготовим тексты комментариев к обработке. Для этого с помощью регулярных выражений оставим в тексте только буквы английского алфавита и приведём все символы к нижнему регистру. Затем разделим текст на токены и одновременно удалим стоп-слова. Оставшиеся слова преобразуем в их начальную форму (лемму). Все эти операции будут выполняться функцией pre_processing(text)."
   ]
  },
  {
   "cell_type": "code",
   "execution_count": 13,
   "metadata": {},
   "outputs": [],
   "source": [
    "def get_wordnet_pos(treebank_tag):\n",
    "       if treebank_tag.startswith('J'):\n",
    "           return wordnet.ADJ\n",
    "       elif treebank_tag.startswith('V'):\n",
    "           return wordnet.VERB\n",
    "       elif treebank_tag.startswith('N'):\n",
    "           return wordnet.NOUN\n",
    "       elif treebank_tag.startswith('R'):\n",
    "           return wordnet.ADV\n",
    "       else:\n",
    "           return wordnet.NOUN"
   ]
  },
  {
   "cell_type": "code",
   "execution_count": 14,
   "metadata": {},
   "outputs": [],
   "source": [
    "def pre_processing(text):\n",
    "    text = re.sub(r'[^a-z ]', ' ', text.lower()).strip()\n",
    "    tokens = word_tokenize(text)\n",
    "    \n",
    "    tokens_with_pos = pos_tag(tokens)\n",
    "    tokens_filtered = [(word, pos) for word, pos in tokens_with_pos if word not in stop_words]\n",
    "    \n",
    "    text = ' '.join([\n",
    "        lemmatizer.lemmatize(word, get_wordnet_pos(pos)) for word, pos in tokens_filtered\n",
    "    ])\n",
    "    return text"
   ]
  },
  {
   "cell_type": "code",
   "execution_count": 15,
   "metadata": {},
   "outputs": [
    {
     "name": "stdout",
     "output_type": "stream",
     "text": [
      "CPU times: user 8min 47s, sys: 4.46 s, total: 8min 52s\n",
      "Wall time: 8min 55s\n"
     ]
    }
   ],
   "source": [
    "%%time\n",
    "#pandarallel.initialize(progress_bar=True)\n",
    "df['pre_text'] = df['text'].apply(pre_processing)"
   ]
  },
  {
   "cell_type": "code",
   "execution_count": 16,
   "metadata": {
    "scrolled": true
   },
   "outputs": [
    {
     "data": {
      "text/html": [
       "<div>\n",
       "<style scoped>\n",
       "    .dataframe tbody tr th:only-of-type {\n",
       "        vertical-align: middle;\n",
       "    }\n",
       "\n",
       "    .dataframe tbody tr th {\n",
       "        vertical-align: top;\n",
       "    }\n",
       "\n",
       "    .dataframe thead th {\n",
       "        text-align: right;\n",
       "    }\n",
       "</style>\n",
       "<table border=\"1\" class=\"dataframe\">\n",
       "  <thead>\n",
       "    <tr style=\"text-align: right;\">\n",
       "      <th></th>\n",
       "      <th>text</th>\n",
       "      <th>toxic</th>\n",
       "      <th>pre_text</th>\n",
       "    </tr>\n",
       "  </thead>\n",
       "  <tbody>\n",
       "    <tr>\n",
       "      <th>0</th>\n",
       "      <td>Explanation\\nWhy the edits made under my usern...</td>\n",
       "      <td>0</td>\n",
       "      <td>explanation edits make username hardcore metal...</td>\n",
       "    </tr>\n",
       "    <tr>\n",
       "      <th>1</th>\n",
       "      <td>D'aww! He matches this background colour I'm s...</td>\n",
       "      <td>0</td>\n",
       "      <td>aww match background colour seemingly stick th...</td>\n",
       "    </tr>\n",
       "    <tr>\n",
       "      <th>2</th>\n",
       "      <td>Hey man, I'm really not trying to edit war. It...</td>\n",
       "      <td>0</td>\n",
       "      <td>hey man really try edit war guy constantly rem...</td>\n",
       "    </tr>\n",
       "  </tbody>\n",
       "</table>\n",
       "</div>"
      ],
      "text/plain": [
       "                                                text  toxic  \\\n",
       "0  Explanation\\nWhy the edits made under my usern...      0   \n",
       "1  D'aww! He matches this background colour I'm s...      0   \n",
       "2  Hey man, I'm really not trying to edit war. It...      0   \n",
       "\n",
       "                                            pre_text  \n",
       "0  explanation edits make username hardcore metal...  \n",
       "1  aww match background colour seemingly stick th...  \n",
       "2  hey man really try edit war guy constantly rem...  "
      ]
     },
     "execution_count": 16,
     "metadata": {},
     "output_type": "execute_result"
    }
   ],
   "source": [
    "df.head(3)"
   ]
  },
  {
   "cell_type": "markdown",
   "metadata": {},
   "source": [
    "Функция успешно преобразовала комментарии. Признак text нам больше не нужен."
   ]
  },
  {
   "cell_type": "code",
   "execution_count": 17,
   "metadata": {},
   "outputs": [],
   "source": [
    "df.drop('text', axis=1, inplace=True)"
   ]
  },
  {
   "cell_type": "markdown",
   "metadata": {},
   "source": [
    "Предлагаю проанализировать количество символов в комментариях."
   ]
  },
  {
   "cell_type": "code",
   "execution_count": 18,
   "metadata": {},
   "outputs": [],
   "source": [
    "df['len'] = df['pre_text'].str.len()"
   ]
  },
  {
   "cell_type": "code",
   "execution_count": 19,
   "metadata": {},
   "outputs": [
    {
     "data": {
      "text/plain": [
       "count    159292.000000\n",
       "mean        235.920040\n",
       "std         370.557515\n",
       "min           0.000000\n",
       "25%          55.000000\n",
       "50%         120.000000\n",
       "75%         257.000000\n",
       "max        5000.000000\n",
       "Name: len, dtype: float64"
      ]
     },
     "execution_count": 19,
     "metadata": {},
     "output_type": "execute_result"
    }
   ],
   "source": [
    "df['len'].describe()"
   ]
  },
  {
   "cell_type": "markdown",
   "metadata": {},
   "source": [
    "Встречаются комментарии, состоящие из 0 символов. Вероятно, изначально они содержали только стоп-слова, которые были удалены в процессе предобработки. Средняя длина текста составляет 124 символа, при этом максимальная достигает 5000. Предлагаю исключить тексты с нулевой длиной, а все остальные оставить без изменений."
   ]
  },
  {
   "cell_type": "code",
   "execution_count": 20,
   "metadata": {},
   "outputs": [
    {
     "data": {
      "image/png": "[encoded data removed]",
      "text/plain": [
       "<Figure size 864x576 with 2 Axes>"
      ]
     },
     "metadata": {},
     "output_type": "display_data"
    }
   ],
   "source": [
    "fig = plt.figure(figsize=(12, 8))\n",
    "grid = plt.GridSpec(4, 4, hspace=0.5, wspace=0.2)\n",
    "        \n",
    "ax_main = fig.add_subplot(grid[:-1, :-1])\n",
    "ax_bottom = fig.add_subplot(grid[-1, 0:-1], xticklabels=[], yticklabels=[])\n",
    "        \n",
    "ax_main.hist(df['len'], bins=100, edgecolor='black')\n",
    "sns.boxplot(x=df['len'], ax=ax_bottom)\n",
    "ax_main.set(title='Количество символов с комментариях без учета стоп-слов', ylabel='Количество наблюдений')\n",
    "plt.show()"
   ]
  },
  {
   "cell_type": "code",
   "execution_count": 21,
   "metadata": {},
   "outputs": [
    {
     "data": {
      "text/plain": [
       "(159292, 3)"
      ]
     },
     "execution_count": 21,
     "metadata": {},
     "output_type": "execute_result"
    }
   ],
   "source": [
    "df.shape"
   ]
  },
  {
   "cell_type": "code",
   "execution_count": 22,
   "metadata": {},
   "outputs": [],
   "source": [
    "df = df.loc[df['len'] > 0]"
   ]
  },
  {
   "cell_type": "code",
   "execution_count": 23,
   "metadata": {},
   "outputs": [
    {
     "data": {
      "text/plain": [
       "(159230, 3)"
      ]
     },
     "execution_count": 23,
     "metadata": {},
     "output_type": "execute_result"
    }
   ],
   "source": [
    "df.shape"
   ]
  },
  {
   "cell_type": "markdown",
   "metadata": {},
   "source": [
    "Удалили 62 наблюдения. Столбец len нам больше не нужен."
   ]
  },
  {
   "cell_type": "code",
   "execution_count": 24,
   "metadata": {},
   "outputs": [],
   "source": [
    "df.drop('len', axis=1, inplace=True)"
   ]
  },
  {
   "cell_type": "markdown",
   "metadata": {},
   "source": [
    "Учитывая, что у нас достаточно данных, предлагаю разделить их следующим образом: 80% на обучающую выборку, 10% на валидационную и 10% на тестовую. На валидационной выборке будем настраивать гиперпараметры моделей. Когда целевая метрика F1 на валидационной выборке достигнет 0.75, мы применим лучшую модель к тестовой выборке и измерим F1."
   ]
  },
  {
   "cell_type": "code",
   "execution_count": 25,
   "metadata": {},
   "outputs": [],
   "source": [
    "X_train, X_test_valid, y_train, y_test_valid = train_test_split(df.drop('toxic', axis = 1),\n",
    "                                                                df['toxic'],\n",
    "                                                                test_size=0.2,\n",
    "                                                                stratify = df['toxic'],\n",
    "                                                                random_state=42)\n",
    "\n",
    "X_valid, X_test, y_valid, y_test = train_test_split(X_test_valid, \n",
    "                                                    y_test_valid,\n",
    "                                                    test_size=0.5,\n",
    "                                                    stratify = y_test_valid,\n",
    "                                                    random_state=42) "
   ]
  },
  {
   "cell_type": "markdown",
   "metadata": {},
   "source": [
    "Так как целевая метрика F1 — это среднее гармоническое между precision и recall, обе метрики должны иметь хорошие значения. Из-за сильного дисбаланса классов модель может плохо обучаться на минорном классе, в нашем случае 1. Поэтому я разработаю функцию undersampling(X_train, y_train, features, target, alpha=1), которая выполняет undersampling. Цель функции — уравнять классы, уменьшая размер мажорного класса. \n",
    "\n",
    "Функция принимает четыре аргумента: X_train и y_train для объединения в один датафрейм (чтобы сохранить разметку), target — целевая переменная, и alpha=1 — параметр, определяющий разницу между мажорным и минорным классом. Таким образом, мы будем обрезать тренировочную выборку для достижения баланса классов. Если качество будет недостаточным, будем увеличивать параметр alpha, чтобы увеличить объём обучающей выборки, пока F1 не станет приемлемым."
   ]
  },
  {
   "cell_type": "code",
   "execution_count": 26,
   "metadata": {},
   "outputs": [],
   "source": [
    "def undersampling(X_train, y_train, target, alpha=2):\n",
    "    df = X_train.join(y_train)\n",
    "    \n",
    "    minor, major = df[target].unique()\n",
    "    if df[df[target] == minor][target].count() > df[df[target] == major][target].count():\n",
    "        minor, major = major, minor\n",
    "    \n",
    "    minor_df = df[df[target] == minor]\n",
    "    minor_count = minor_df[target].count()\n",
    "    major_df = df[df[target] == major].sample(int(minor_count * alpha), random_state=RANDOM_STATE)\n",
    "    \n",
    "    under_df = pd.concat([minor_df, major_df])\n",
    "    under_df = shuffle(under_df, random_state=RANDOM_STATE)\n",
    "    \n",
    "    return under_df, under_df.drop(target, axis = 1), under_df[target]"
   ]
  },
  {
   "cell_type": "markdown",
   "metadata": {},
   "source": [
    "Возвращаем сокращённый датафрейм и обновлённые X_train_under и y_train_under."
   ]
  },
  {
   "cell_type": "code",
   "execution_count": 27,
   "metadata": {},
   "outputs": [],
   "source": [
    "under_df, X_train_under, y_train_under = undersampling(X_train, y_train, 'toxic')"
   ]
  },
  {
   "cell_type": "code",
   "execution_count": 28,
   "metadata": {},
   "outputs": [
    {
     "data": {
      "image/png": "[encoded data removed]",
      "text/plain": [
       "<Figure size 576x432 with 1 Axes>"
      ]
     },
     "metadata": {},
     "output_type": "display_data"
    }
   ],
   "source": [
    "get_grafic(under_df, 'toxic')"
   ]
  },
  {
   "cell_type": "code",
   "execution_count": 29,
   "metadata": {},
   "outputs": [
    {
     "data": {
      "text/html": [
       "<div>\n",
       "<style scoped>\n",
       "    .dataframe tbody tr th:only-of-type {\n",
       "        vertical-align: middle;\n",
       "    }\n",
       "\n",
       "    .dataframe tbody tr th {\n",
       "        vertical-align: top;\n",
       "    }\n",
       "\n",
       "    .dataframe thead th {\n",
       "        text-align: right;\n",
       "    }\n",
       "</style>\n",
       "<table border=\"1\" class=\"dataframe\">\n",
       "  <thead>\n",
       "    <tr style=\"text-align: right;\">\n",
       "      <th></th>\n",
       "      <th>Выборка</th>\n",
       "      <th>Размер выборки</th>\n",
       "    </tr>\n",
       "  </thead>\n",
       "  <tbody>\n",
       "    <tr>\n",
       "      <th>0</th>\n",
       "      <td>X_train_under</td>\n",
       "      <td>(38844, 1)</td>\n",
       "    </tr>\n",
       "    <tr>\n",
       "      <th>1</th>\n",
       "      <td>y_train_under</td>\n",
       "      <td>(38844,)</td>\n",
       "    </tr>\n",
       "    <tr>\n",
       "      <th>2</th>\n",
       "      <td>X_valid</td>\n",
       "      <td>(15923, 1)</td>\n",
       "    </tr>\n",
       "    <tr>\n",
       "      <th>3</th>\n",
       "      <td>y_valid</td>\n",
       "      <td>(15923,)</td>\n",
       "    </tr>\n",
       "    <tr>\n",
       "      <th>4</th>\n",
       "      <td>X_test</td>\n",
       "      <td>(15923, 1)</td>\n",
       "    </tr>\n",
       "    <tr>\n",
       "      <th>5</th>\n",
       "      <td>y_test</td>\n",
       "      <td>(15923,)</td>\n",
       "    </tr>\n",
       "  </tbody>\n",
       "</table>\n",
       "</div>"
      ],
      "text/plain": [
       "         Выборка Размер выборки\n",
       "0  X_train_under     (38844, 1)\n",
       "1  y_train_under       (38844,)\n",
       "2        X_valid     (15923, 1)\n",
       "3        y_valid       (15923,)\n",
       "4         X_test     (15923, 1)\n",
       "5         y_test       (15923,)"
      ]
     },
     "execution_count": 29,
     "metadata": {},
     "output_type": "execute_result"
    }
   ],
   "source": [
    "pd.DataFrame({\n",
    "    'Выборка':['X_train_under', 'y_train_under',\n",
    "               'X_valid', 'y_valid',\n",
    "               'X_test', 'y_test'],\n",
    "    \n",
    "    'Размер выборки':[X_train_under.shape, y_train_under.shape,\n",
    "                      X_valid.shape, y_valid.shape,\n",
    "                      X_test.shape, y_test.shape]\n",
    "})"
   ]
  },
  {
   "cell_type": "markdown",
   "metadata": {},
   "source": [
    "## Обучение моделей"
   ]
  },
  {
   "cell_type": "markdown",
   "metadata": {},
   "source": [
    "TF-IDF обучаем только на необрезанных тренировочных данных, чтобы максимально увеличить словарь слов. Затем трансформируем сокращённую тренировочную выборку, валидационную и тестовую выборки.\n",
    "\n",
    "Мы обучаемся только на тестовой выборке, поскольку существует риск утечки данных."
   ]
  },
  {
   "cell_type": "code",
   "execution_count": 30,
   "metadata": {},
   "outputs": [],
   "source": [
    "count_tf_idf = TfidfVectorizer()\n",
    "tfidf = count_tf_idf.fit(X_train['pre_text'])\n",
    "\n",
    "tfidf_train = count_tf_idf.transform(X_train_under['pre_text'])\n",
    "tfidf_valid = count_tf_idf.transform(X_valid['pre_text'])\n",
    "tfidf_test = count_tf_idf.transform(X_test['pre_text'])"
   ]
  },
  {
   "cell_type": "markdown",
   "metadata": {},
   "source": [
    "Для обучения я выбрал три модели: LogisticRegression, DecisionTreeClassifier и KNeighborsClassifier. Я остановился на них, потому что, на мой взгляд, они будут обучаться быстрее, чем ансамблевые алгоритмы и, тем более, нейросети."
   ]
  },
  {
   "cell_type": "code",
   "execution_count": 31,
   "metadata": {},
   "outputs": [],
   "source": [
    "models = [\n",
    "    LogisticRegression(random_state=RANDOM_STATE),\n",
    "    DecisionTreeClassifier(random_state=RANDOM_STATE),\n",
    "    KNeighborsClassifier()\n",
    "]\n",
    "\n",
    "models_parameters = [\n",
    "    [\n",
    "        'LogisticRegression', \n",
    "        {'C': range(1, 16, 3),\n",
    "        'penalty': ['l1', 'l2']} \n",
    "    ],\n",
    "    [\n",
    "        'DecisionTreeClassifier',\n",
    "        {'max_depth': range(5, 20)} \n",
    "    ],\n",
    "    [\n",
    "        'KNeighborsClassifier', \n",
    "        {'n_neighbors': range(1, 20)} \n",
    "    ]\n",
    "]"
   ]
  },
  {
   "cell_type": "markdown",
   "metadata": {},
   "source": [
    "Перейдём к обучению моделей. Я буду использовать RandomizedSearchCV для подбора лучших гиперпараметров. На каждой итерации цикла будем обучать одну модель, сохраняя её лучшие гиперпараметры, время обучения, время предсказания, а также значение метрики F1 на обучающей и валидационной выборках в словаре models_df. Также отмечу, что я планирую провести несколько циклов с различными размерами обучающей выборки, изменяя параметр alpha в функции undersampling. Результаты обучения и валидационных тестов будут представлены ниже."
   ]
  },
  {
   "cell_type": "code",
   "execution_count": 32,
   "metadata": {
    "scrolled": true
   },
   "outputs": [
    {
     "data": {
      "application/vnd.jupyter.widget-view+json": {
       "model_id": "bc3918406e8b49d190bb01ac7ff0b0a1",
       "version_major": 2,
       "version_minor": 0
      },
      "text/plain": [
       "  0%|          | 0/3 [00:00<?, ?it/s]"
      ]
     },
     "metadata": {},
     "output_type": "display_data"
    },
    {
     "name": "stdout",
     "output_type": "stream",
     "text": [
      "CPU times: user 9min 51s, sys: 7min 4s, total: 16min 56s\n",
      "Wall time: 16min 58s\n"
     ]
    },
    {
     "data": {
      "text/html": [
       "<div>\n",
       "<style scoped>\n",
       "    .dataframe tbody tr th:only-of-type {\n",
       "        vertical-align: middle;\n",
       "    }\n",
       "\n",
       "    .dataframe tbody tr th {\n",
       "        vertical-align: top;\n",
       "    }\n",
       "\n",
       "    .dataframe thead th {\n",
       "        text-align: right;\n",
       "    }\n",
       "</style>\n",
       "<table border=\"1\" class=\"dataframe\">\n",
       "  <thead>\n",
       "    <tr style=\"text-align: right;\">\n",
       "      <th></th>\n",
       "      <th>model</th>\n",
       "      <th>parameters</th>\n",
       "      <th>training_time(ms)</th>\n",
       "      <th>predict_time(ms)</th>\n",
       "      <th>train_score(F1)</th>\n",
       "      <th>valid_score(F1)</th>\n",
       "    </tr>\n",
       "  </thead>\n",
       "  <tbody>\n",
       "    <tr>\n",
       "      <th>0</th>\n",
       "      <td>LogisticRegression</td>\n",
       "      <td>{'penalty': 'l2', 'C': 13}</td>\n",
       "      <td>565.1586</td>\n",
       "      <td>0.0020</td>\n",
       "      <td>0.859712</td>\n",
       "      <td>0.766810</td>\n",
       "    </tr>\n",
       "    <tr>\n",
       "      <th>1</th>\n",
       "      <td>DecisionTreeClassifier</td>\n",
       "      <td>{'max_depth': 19}</td>\n",
       "      <td>63.1631</td>\n",
       "      <td>0.0071</td>\n",
       "      <td>0.697604</td>\n",
       "      <td>0.645954</td>\n",
       "    </tr>\n",
       "    <tr>\n",
       "      <th>2</th>\n",
       "      <td>KNeighborsClassifier</td>\n",
       "      <td>{'n_neighbors': 18}</td>\n",
       "      <td>365.8266</td>\n",
       "      <td>24.1816</td>\n",
       "      <td>0.809111</td>\n",
       "      <td>0.581591</td>\n",
       "    </tr>\n",
       "  </tbody>\n",
       "</table>\n",
       "</div>"
      ],
      "text/plain": [
       "                    model                  parameters  training_time(ms)  \\\n",
       "0      LogisticRegression  {'penalty': 'l2', 'C': 13}           565.1586   \n",
       "1  DecisionTreeClassifier           {'max_depth': 19}            63.1631   \n",
       "2    KNeighborsClassifier         {'n_neighbors': 18}           365.8266   \n",
       "\n",
       "   predict_time(ms)  train_score(F1)  valid_score(F1)  \n",
       "0            0.0020         0.859712         0.766810  \n",
       "1            0.0071         0.697604         0.645954  \n",
       "2           24.1816         0.809111         0.581591  "
      ]
     },
     "execution_count": 32,
     "metadata": {},
     "output_type": "execute_result"
    }
   ],
   "source": [
    "%%time\n",
    "\n",
    "models_df = {}\n",
    "\n",
    "for i in notebook.tqdm(range(len(models))):\n",
    "    rs = RandomizedSearchCV(\n",
    "        models[i],\n",
    "        models_parameters[i][1],\n",
    "        n_jobs=-1,\n",
    "        cv=StratifiedKFold(n_splits=3),\n",
    "        scoring='f1',\n",
    "        random_state=RANDOM_STATE\n",
    "        )\n",
    "    start_fit = time.time()\n",
    "    rs.fit(tfidf_train, y_train_under)\n",
    "    end_fit = time.time()\n",
    "    fit_time = round(end_fit - start_fit, 4)\n",
    "    \n",
    "    start_predict = time.time()\n",
    "    valid_pred = rs.predict(tfidf_valid)\n",
    "    end_predict = time.time()\n",
    "    predict_time = round(end_predict - start_predict, 4)\n",
    "    \n",
    "    if i == 0:\n",
    "        models_df['model'] = [models_parameters[i][0]]\n",
    "        models_df['parameters'] = [rs.best_params_]\n",
    "        models_df['training_time(ms)'] = [fit_time]\n",
    "        models_df['predict_time(ms)'] = [predict_time]\n",
    "        models_df['train_score(F1)'] = [rs.best_score_]\n",
    "        models_df['valid_score(F1)'] = [f1_score(y_valid, valid_pred)]\n",
    "\n",
    "    else:\n",
    "        models_df['model'].append(models_parameters[i][0])\n",
    "        models_df['parameters'].append(rs.best_params_)\n",
    "        models_df['training_time(ms)'].append(fit_time)\n",
    "        models_df['predict_time(ms)'].append(predict_time)\n",
    "        models_df['train_score(F1)'].append(rs.best_score_)\n",
    "        models_df['valid_score(F1)'].append(f1_score(y_valid, valid_pred))\n",
    "        \n",
    "pd.DataFrame(models_df)"
   ]
  },
  {
   "cell_type": "markdown",
   "metadata": {},
   "source": [
    "Мы достигли положительного результата по метрике F1 на валидационной выборке с моделью LogisticRegression, использующей регуляризатор L2 и коэффициент регуляризации, равный 10.\n",
    "\n",
    "В данном случае параметр alpha равен 2, что означает, что отношение количества элементов класса 0 к классу 1 составляет 2 к 1."
   ]
  },
  {
   "cell_type": "markdown",
   "metadata": {},
   "source": [
    "Также хочу отметить несколько моментов о других моделях. Самая быстрая в обучении оказалась модель DecisionTreeClassifier, но её качество оставляет желать лучшего. KNeighborsClassifier обучился немного быстрее, чем LogisticRegression, однако время предсказания у него дольше, что неудивительно, так как необходимо вычислить расстояния до 18 соседей. Возможно, для улучшения метрики F1 для моделей DecisionTreeClassifier и KNeighborsClassifier потребуется больше данных."
   ]
  },
  {
   "attachments": {
    "image-3.png": {
     "image/png": "[encoded data removed]"
    }
   },
   "cell_type": "markdown",
   "metadata": {},
   "source": [
    "alpha = 1 ![image-3.png](attachment:image-3.png)"
   ]
  },
  {
   "attachments": {
    "image-3.png": {
     "image/png": "[encoded data removed]"
    }
   },
   "cell_type": "markdown",
   "metadata": {},
   "source": [
    "alpha = 1.5 ![image-3.png](attachment:image-3.png)"
   ]
  },
  {
   "cell_type": "markdown",
   "metadata": {},
   "source": [
    "## Оценка качества и выбор лучшей модели"
   ]
  },
  {
   "cell_type": "markdown",
   "metadata": {},
   "source": [
    "Теперь предскажем метки класса тестовой выборки, используя лучшую модель с оптимальными гиперпараметрами."
   ]
  },
  {
   "cell_type": "code",
   "execution_count": 33,
   "metadata": {},
   "outputs": [],
   "source": [
    "best_parm_logisticregression = models_df['parameters'][0]"
   ]
  },
  {
   "cell_type": "code",
   "execution_count": 34,
   "metadata": {},
   "outputs": [],
   "source": [
    "model = LogisticRegression(penalty = best_parm_logisticregression['penalty'],\n",
    "                           C=best_parm_logisticregression['C'],\n",
    "                           random_state=RANDOM_STATE)"
   ]
  },
  {
   "cell_type": "code",
   "execution_count": 35,
   "metadata": {},
   "outputs": [
    {
     "data": {
      "text/plain": [
       "LogisticRegression(C=13, random_state=42)"
      ]
     },
     "execution_count": 35,
     "metadata": {},
     "output_type": "execute_result"
    }
   ],
   "source": [
    "model.fit(tfidf_train, y_train_under)"
   ]
  },
  {
   "cell_type": "code",
   "execution_count": 36,
   "metadata": {},
   "outputs": [
    {
     "data": {
      "text/plain": [
       "0.7774921451013996"
      ]
     },
     "execution_count": 36,
     "metadata": {},
     "output_type": "execute_result"
    }
   ],
   "source": [
    "pred = model.predict(tfidf_test)\n",
    "f1_score(y_test, pred)"
   ]
  },
  {
   "cell_type": "markdown",
   "metadata": {},
   "source": [
    "Пороговое значение метрики F1 достигнуто."
   ]
  },
  {
   "cell_type": "code",
   "execution_count": 37,
   "metadata": {},
   "outputs": [
    {
     "data": {
      "image/png": "[encoded data removed]",
      "text/plain": [
       "<Figure size 432x288 with 2 Axes>"
      ]
     },
     "metadata": {},
     "output_type": "display_data"
    }
   ],
   "source": [
    "cm = confusion_matrix(y_test, pred)\n",
    "sns.heatmap(cm, annot=True, fmt='d', cmap='Blues_r')\n",
    "plt.ylabel('True label')\n",
    "plt.xlabel('Predicted')\n",
    "plt.show()"
   ]
  },
  {
   "cell_type": "markdown",
   "metadata": {},
   "source": [
    "Судя по матрице ошибок, модель чаще допускает ошибку первого рода, то есть неверно предсказывает класс 1. Это может быть связано с тем, что модель обучалась на слегка сбалансированных данных, а предсказывала на несбалансированных. Возможно, если ещё увеличить параметр alpha, это улучшит качество предсказаний."
   ]
  },
  {
   "cell_type": "markdown",
   "metadata": {},
   "source": [
    "## Формулирование выводов"
   ]
  },
  {
   "cell_type": "markdown",
   "metadata": {},
   "source": [
    "Цель проекта заключалась в разработке и обучении модели машинного обучения, способной классифицировать комментарии на позитивные и негативные (токсичные). Требовалось обеспечить хорошее качество классификации, достигая значения метрики F1 не менее 0.75. \n",
    "\n",
    "Для подготовки данных мы очистили тексты комментариев, оставив только буквы английского алфавита и приведя все символы к нижнему регистру. Далее мы разделили текст на токены, удалили стоп-слова и преобразовали оставшиеся слова в их начальную форму. Все эти операции выполнялись с помощью функции pre_processing(text).\n",
    "\n",
    "Из-за дисбаланса классов модель могла плохо обучаться на минорном классе (1), поэтому была разработана функция undersampling(X_train, y_train, features, target, alpha=1), которая уменьшает размер мажорного класса для достижения баланса. Параметр alpha регулировал разницу между мажорным и минорным классом, и его можно было увеличивать для улучшения качества модели.\n",
    "\n",
    "TF-IDF обучался только на необрезанных тренировочных данных для максимального увеличения словаря, после чего мы трансформировали сокращённую тренировочную, валидационную и тестовую выборки.\n",
    "\n",
    "Модель LogisticRegression с регуляризатором L2 и коэффициентом регуляризации 10 показала положительный результат по метрике F1 на валидационной выборке. Параметр alpha был равен 2, что означало, что отношение количества элементов класса 0 к классу 1 составляло 2 к 1. Мы успешно достигли порогового значения метрики F1 в 0.774, что соответствует нашим требованиям.\n",
    "\n",
    "Для улучшения метрики F1 можно попробовать другие технологии векторизации текста, а также экспериментировать с различными значениями параметра alpha. Можно рассмотреть обучение ансамблевых алгоритмов или нейронных сетей. Кроме того, стоит рассмотреть возможность подбора большего количества гиперпараметров для моделей, используемых в данном проекте."
   ]
  }
 ],
 "metadata": {
  "ExecuteTimeLog": [
   {
    "duration": 382,
    "start_time": "2025-01-18T15:18:29.743Z"
   },
   {
    "duration": 62,
    "start_time": "2025-01-18T15:19:25.975Z"
   },
   {
    "duration": 2,
    "start_time": "2025-01-18T15:19:36.797Z"
   },
   {
    "duration": 1272,
    "start_time": "2025-01-18T15:19:38.663Z"
   },
   {
    "duration": 13,
    "start_time": "2025-01-18T15:20:05.146Z"
   },
   {
    "duration": 7,
    "start_time": "2025-01-18T15:20:06.505Z"
   },
   {
    "duration": 32,
    "start_time": "2025-01-18T15:21:10.566Z"
   },
   {
    "duration": 964,
    "start_time": "2025-01-18T15:23:23.631Z"
   },
   {
    "duration": 377,
    "start_time": "2025-01-18T15:24:00.447Z"
   },
   {
    "duration": 239,
    "start_time": "2025-01-18T15:25:00.335Z"
   },
   {
    "duration": 236,
    "start_time": "2025-01-18T15:25:12.539Z"
   },
   {
    "duration": 218,
    "start_time": "2025-01-18T15:27:44.747Z"
   },
   {
    "duration": 278,
    "start_time": "2025-01-18T15:27:50.881Z"
   },
   {
    "duration": 36,
    "start_time": "2025-01-18T15:30:44.039Z"
   },
   {
    "duration": 11,
    "start_time": "2025-01-18T15:30:48.352Z"
   },
   {
    "duration": 217,
    "start_time": "2025-01-18T15:31:51.496Z"
   },
   {
    "duration": 50,
    "start_time": "2025-01-18T15:33:00.132Z"
   },
   {
    "duration": 267,
    "start_time": "2025-01-18T15:33:15.813Z"
   },
   {
    "duration": 5,
    "start_time": "2025-01-18T15:33:20.234Z"
   },
   {
    "duration": 1179,
    "start_time": "2025-01-18T16:04:04.103Z"
   },
   {
    "duration": 2,
    "start_time": "2025-01-18T16:04:05.284Z"
   },
   {
    "duration": 997,
    "start_time": "2025-01-18T16:04:05.288Z"
   },
   {
    "duration": 13,
    "start_time": "2025-01-18T16:04:06.288Z"
   },
   {
    "duration": 21,
    "start_time": "2025-01-18T16:04:06.304Z"
   },
   {
    "duration": 96,
    "start_time": "2025-01-18T16:04:06.327Z"
   },
   {
    "duration": 265,
    "start_time": "2025-01-18T16:04:06.425Z"
   },
   {
    "duration": 31,
    "start_time": "2025-01-18T16:04:06.692Z"
   },
   {
    "duration": 226,
    "start_time": "2025-01-18T16:04:06.725Z"
   },
   {
    "duration": 285,
    "start_time": "2025-01-18T16:04:06.953Z"
   },
   {
    "duration": 3,
    "start_time": "2025-01-18T16:04:07.239Z"
   },
   {
    "duration": 5,
    "start_time": "2025-01-18T16:04:07.244Z"
   },
   {
    "duration": 1476,
    "start_time": "2025-01-18T16:04:07.250Z"
   },
   {
    "duration": 12,
    "start_time": "2025-01-18T16:04:08.728Z"
   },
   {
    "duration": 3,
    "start_time": "2025-01-18T16:05:10.903Z"
   },
   {
    "duration": 1376,
    "start_time": "2025-01-18T16:05:11.375Z"
   },
   {
    "duration": 11,
    "start_time": "2025-01-18T16:05:14.236Z"
   },
   {
    "duration": 3,
    "start_time": "2025-01-18T16:06:24.380Z"
   },
   {
    "duration": 1401,
    "start_time": "2025-01-18T16:06:24.740Z"
   },
   {
    "duration": 12,
    "start_time": "2025-01-18T16:06:28.630Z"
   },
   {
    "duration": 2,
    "start_time": "2025-01-18T16:06:48.789Z"
   },
   {
    "duration": 1561,
    "start_time": "2025-01-18T16:06:49.198Z"
   },
   {
    "duration": 11,
    "start_time": "2025-01-18T16:06:51.536Z"
   },
   {
    "duration": 498,
    "start_time": "2025-01-18T16:14:26.273Z"
   },
   {
    "duration": 3,
    "start_time": "2025-01-18T16:14:26.773Z"
   },
   {
    "duration": 49700,
    "start_time": "2025-01-18T16:14:28.358Z"
   },
   {
    "duration": 15,
    "start_time": "2025-01-18T16:15:18.060Z"
   },
   {
    "duration": 164,
    "start_time": "2025-01-18T16:26:32.040Z"
   },
   {
    "duration": 4,
    "start_time": "2025-01-18T16:26:32.490Z"
   },
   {
    "duration": 69552,
    "start_time": "2025-01-18T16:26:36.290Z"
   },
   {
    "duration": 15,
    "start_time": "2025-01-18T16:27:45.844Z"
   },
   {
    "duration": 1508,
    "start_time": "2025-01-18T16:29:51.751Z"
   },
   {
    "duration": 2,
    "start_time": "2025-01-18T16:29:53.261Z"
   },
   {
    "duration": 913,
    "start_time": "2025-01-18T16:29:53.265Z"
   },
   {
    "duration": 11,
    "start_time": "2025-01-18T16:29:54.179Z"
   },
   {
    "duration": 16,
    "start_time": "2025-01-18T16:29:54.192Z"
   },
   {
    "duration": 40,
    "start_time": "2025-01-18T16:29:54.210Z"
   },
   {
    "duration": 328,
    "start_time": "2025-01-18T16:29:54.251Z"
   },
   {
    "duration": 11,
    "start_time": "2025-01-18T16:29:54.580Z"
   },
   {
    "duration": 239,
    "start_time": "2025-01-18T16:29:54.592Z"
   },
   {
    "duration": 272,
    "start_time": "2025-01-18T16:29:54.832Z"
   },
   {
    "duration": 3,
    "start_time": "2025-01-18T16:29:55.106Z"
   },
   {
    "duration": 68868,
    "start_time": "2025-01-18T16:29:55.111Z"
   },
   {
    "duration": 28,
    "start_time": "2025-01-18T16:31:03.990Z"
   },
   {
    "duration": 38,
    "start_time": "2025-01-18T16:31:04.020Z"
   },
   {
    "duration": 3,
    "start_time": "2025-01-18T16:35:49.192Z"
   },
   {
    "duration": 74,
    "start_time": "2025-01-18T16:35:49.489Z"
   },
   {
    "duration": 142,
    "start_time": "2025-01-18T16:36:25.593Z"
   },
   {
    "duration": 101,
    "start_time": "2025-01-18T16:36:37.860Z"
   },
   {
    "duration": 97,
    "start_time": "2025-01-18T16:37:05.483Z"
   },
   {
    "duration": 124,
    "start_time": "2025-01-18T16:37:26.913Z"
   },
   {
    "duration": 13,
    "start_time": "2025-01-18T16:47:13.239Z"
   },
   {
    "duration": 9,
    "start_time": "2025-01-18T16:49:20.472Z"
   },
   {
    "duration": 2,
    "start_time": "2025-01-18T17:13:13.598Z"
   },
   {
    "duration": 4,
    "start_time": "2025-01-18T17:25:17.292Z"
   },
   {
    "duration": 3,
    "start_time": "2025-01-18T17:25:18.567Z"
   },
   {
    "duration": 89,
    "start_time": "2025-01-18T17:25:20.856Z"
   },
   {
    "duration": 84,
    "start_time": "2025-01-18T17:35:36.639Z"
   },
   {
    "duration": 11,
    "start_time": "2025-01-18T17:36:37.867Z"
   },
   {
    "duration": 3,
    "start_time": "2025-01-18T17:36:39.184Z"
   },
   {
    "duration": 42,
    "start_time": "2025-01-18T17:36:39.786Z"
   },
   {
    "duration": 4,
    "start_time": "2025-01-18T17:39:32.796Z"
   },
   {
    "duration": 3,
    "start_time": "2025-01-18T17:39:33.299Z"
   },
   {
    "duration": 754,
    "start_time": "2025-01-18T17:39:34.740Z"
   },
   {
    "duration": 1527,
    "start_time": "2025-01-18T17:40:54.640Z"
   },
   {
    "duration": 3,
    "start_time": "2025-01-18T17:40:56.169Z"
   },
   {
    "duration": 904,
    "start_time": "2025-01-18T17:40:56.174Z"
   },
   {
    "duration": 11,
    "start_time": "2025-01-18T17:40:57.080Z"
   },
   {
    "duration": 7,
    "start_time": "2025-01-18T17:40:57.094Z"
   },
   {
    "duration": 33,
    "start_time": "2025-01-18T17:40:57.122Z"
   },
   {
    "duration": 323,
    "start_time": "2025-01-18T17:40:57.157Z"
   },
   {
    "duration": 12,
    "start_time": "2025-01-18T17:40:57.522Z"
   },
   {
    "duration": 231,
    "start_time": "2025-01-18T17:40:57.535Z"
   },
   {
    "duration": 130,
    "start_time": "2025-01-18T17:40:57.768Z"
   },
   {
    "duration": 4,
    "start_time": "2025-01-18T17:40:57.900Z"
   },
   {
    "duration": 69441,
    "start_time": "2025-01-18T17:40:57.906Z"
   },
   {
    "duration": 7,
    "start_time": "2025-01-18T17:42:07.349Z"
   },
   {
    "duration": 7,
    "start_time": "2025-01-18T17:42:07.359Z"
   },
   {
    "duration": 44,
    "start_time": "2025-01-18T17:42:07.367Z"
   },
   {
    "duration": 11,
    "start_time": "2025-01-18T17:42:07.412Z"
   },
   {
    "duration": 92,
    "start_time": "2025-01-18T17:42:07.424Z"
   },
   {
    "duration": 9,
    "start_time": "2025-01-18T17:42:07.522Z"
   },
   {
    "duration": 4,
    "start_time": "2025-01-18T17:42:07.532Z"
   },
   {
    "duration": 5,
    "start_time": "2025-01-18T17:42:07.537Z"
   },
   {
    "duration": 6,
    "start_time": "2025-01-18T17:42:07.543Z"
   },
   {
    "duration": 2,
    "start_time": "2025-01-18T17:42:07.551Z"
   },
   {
    "duration": 640,
    "start_time": "2025-01-18T17:42:07.555Z"
   },
   {
    "duration": 8,
    "start_time": "2025-01-18T17:43:06.584Z"
   },
   {
    "duration": 4,
    "start_time": "2025-01-18T17:43:37.583Z"
   },
   {
    "duration": 4,
    "start_time": "2025-01-18T17:50:31.180Z"
   },
   {
    "duration": 4,
    "start_time": "2025-01-18T17:50:53.979Z"
   },
   {
    "duration": 3,
    "start_time": "2025-01-18T17:50:54.514Z"
   },
   {
    "duration": 187,
    "start_time": "2025-01-18T17:50:55.764Z"
   },
   {
    "duration": 159,
    "start_time": "2025-01-18T17:51:19.060Z"
   },
   {
    "duration": 35,
    "start_time": "2025-01-18T17:52:20.365Z"
   },
   {
    "duration": 4,
    "start_time": "2025-01-18T17:53:02.075Z"
   },
   {
    "duration": 14,
    "start_time": "2025-01-18T17:53:02.897Z"
   },
   {
    "duration": 4,
    "start_time": "2025-01-18T17:53:14.866Z"
   },
   {
    "duration": 14,
    "start_time": "2025-01-18T17:53:15.419Z"
   },
   {
    "duration": 85,
    "start_time": "2025-01-18T17:53:45.861Z"
   },
   {
    "duration": 4,
    "start_time": "2025-01-18T17:53:51.878Z"
   },
   {
    "duration": 14,
    "start_time": "2025-01-18T17:53:52.501Z"
   },
   {
    "duration": 4,
    "start_time": "2025-01-18T17:54:03.607Z"
   },
   {
    "duration": 1463,
    "start_time": "2025-01-18T17:54:04.028Z"
   },
   {
    "duration": 4,
    "start_time": "2025-01-18T17:54:41.130Z"
   },
   {
    "duration": 164,
    "start_time": "2025-01-18T17:54:42.445Z"
   },
   {
    "duration": 1547,
    "start_time": "2025-01-18T17:56:34.456Z"
   },
   {
    "duration": 3,
    "start_time": "2025-01-18T17:56:36.005Z"
   },
   {
    "duration": 955,
    "start_time": "2025-01-18T17:56:36.009Z"
   },
   {
    "duration": 12,
    "start_time": "2025-01-18T17:56:36.966Z"
   },
   {
    "duration": 46,
    "start_time": "2025-01-18T17:56:36.979Z"
   },
   {
    "duration": 39,
    "start_time": "2025-01-18T17:56:37.027Z"
   },
   {
    "duration": 418,
    "start_time": "2025-01-18T17:56:37.068Z"
   },
   {
    "duration": 15,
    "start_time": "2025-01-18T17:56:37.488Z"
   },
   {
    "duration": 238,
    "start_time": "2025-01-18T17:56:37.506Z"
   },
   {
    "duration": 539,
    "start_time": "2025-01-18T17:56:37.747Z"
   },
   {
    "duration": 4,
    "start_time": "2025-01-18T17:56:38.288Z"
   },
   {
    "duration": 68824,
    "start_time": "2025-01-18T17:56:38.297Z"
   },
   {
    "duration": 6,
    "start_time": "2025-01-18T17:57:47.123Z"
   },
   {
    "duration": 7,
    "start_time": "2025-01-18T17:57:47.131Z"
   },
   {
    "duration": 32,
    "start_time": "2025-01-18T17:57:47.140Z"
   },
   {
    "duration": 2,
    "start_time": "2025-01-18T17:57:47.174Z"
   },
   {
    "duration": 117,
    "start_time": "2025-01-18T17:57:47.178Z"
   },
   {
    "duration": 10,
    "start_time": "2025-01-18T17:57:47.296Z"
   },
   {
    "duration": 13,
    "start_time": "2025-01-18T17:57:47.308Z"
   },
   {
    "duration": 3,
    "start_time": "2025-01-18T17:57:47.323Z"
   },
   {
    "duration": 14,
    "start_time": "2025-01-18T17:57:47.327Z"
   },
   {
    "duration": 296,
    "start_time": "2025-01-18T17:57:47.343Z"
   },
   {
    "duration": 0,
    "start_time": "2025-01-18T17:57:47.641Z"
   },
   {
    "duration": 0,
    "start_time": "2025-01-18T17:57:47.642Z"
   },
   {
    "duration": 4,
    "start_time": "2025-01-18T17:58:10.571Z"
   },
   {
    "duration": 165,
    "start_time": "2025-01-18T17:58:10.981Z"
   },
   {
    "duration": 173,
    "start_time": "2025-01-18T18:00:59.086Z"
   },
   {
    "duration": 98,
    "start_time": "2025-01-18T18:04:50.890Z"
   },
   {
    "duration": 12,
    "start_time": "2025-01-18T18:05:12.743Z"
   },
   {
    "duration": 12,
    "start_time": "2025-01-18T18:05:16.041Z"
   },
   {
    "duration": 161,
    "start_time": "2025-01-18T18:06:23.222Z"
   },
   {
    "duration": 251,
    "start_time": "2025-01-18T18:06:42.072Z"
   },
   {
    "duration": 3,
    "start_time": "2025-01-18T18:07:38.063Z"
   },
   {
    "duration": 13,
    "start_time": "2025-01-18T18:07:43.782Z"
   },
   {
    "duration": 11,
    "start_time": "2025-01-18T18:07:54.166Z"
   },
   {
    "duration": 16,
    "start_time": "2025-01-18T18:08:09.196Z"
   },
   {
    "duration": 4,
    "start_time": "2025-01-18T18:08:09.933Z"
   },
   {
    "duration": 93,
    "start_time": "2025-01-18T18:08:15.177Z"
   },
   {
    "duration": 8,
    "start_time": "2025-01-18T18:08:17.336Z"
   },
   {
    "duration": 3,
    "start_time": "2025-01-18T18:08:23.150Z"
   },
   {
    "duration": 3,
    "start_time": "2025-01-18T18:08:25.215Z"
   },
   {
    "duration": 188,
    "start_time": "2025-01-18T18:08:26.065Z"
   },
   {
    "duration": 1473,
    "start_time": "2025-01-18T18:08:42.730Z"
   },
   {
    "duration": 3,
    "start_time": "2025-01-18T18:08:44.204Z"
   },
   {
    "duration": 915,
    "start_time": "2025-01-18T18:08:44.208Z"
   },
   {
    "duration": 12,
    "start_time": "2025-01-18T18:08:45.125Z"
   },
   {
    "duration": 43,
    "start_time": "2025-01-18T18:08:45.139Z"
   },
   {
    "duration": 71,
    "start_time": "2025-01-18T18:08:45.183Z"
   },
   {
    "duration": 319,
    "start_time": "2025-01-18T18:08:45.255Z"
   },
   {
    "duration": 10,
    "start_time": "2025-01-18T18:08:45.576Z"
   },
   {
    "duration": 244,
    "start_time": "2025-01-18T18:08:45.588Z"
   },
   {
    "duration": 543,
    "start_time": "2025-01-18T18:08:45.834Z"
   },
   {
    "duration": 4,
    "start_time": "2025-01-18T18:08:46.379Z"
   },
   {
    "duration": 69081,
    "start_time": "2025-01-18T18:08:46.385Z"
   },
   {
    "duration": 6,
    "start_time": "2025-01-18T18:09:55.468Z"
   },
   {
    "duration": 27,
    "start_time": "2025-01-18T18:09:55.477Z"
   },
   {
    "duration": 48,
    "start_time": "2025-01-18T18:09:55.505Z"
   },
   {
    "duration": 102,
    "start_time": "2025-01-18T18:09:55.554Z"
   },
   {
    "duration": 265,
    "start_time": "2025-01-18T18:09:55.658Z"
   },
   {
    "duration": 4,
    "start_time": "2025-01-18T18:09:55.924Z"
   },
   {
    "duration": 61,
    "start_time": "2025-01-18T18:09:55.930Z"
   },
   {
    "duration": 12,
    "start_time": "2025-01-18T18:09:55.992Z"
   },
   {
    "duration": 17,
    "start_time": "2025-01-18T18:09:56.005Z"
   },
   {
    "duration": 104,
    "start_time": "2025-01-18T18:09:56.024Z"
   },
   {
    "duration": 9,
    "start_time": "2025-01-18T18:09:56.130Z"
   },
   {
    "duration": 12,
    "start_time": "2025-01-18T18:09:56.140Z"
   },
   {
    "duration": 38,
    "start_time": "2025-01-18T18:09:56.154Z"
   },
   {
    "duration": 26,
    "start_time": "2025-01-18T18:09:56.194Z"
   },
   {
    "duration": 319,
    "start_time": "2025-01-18T18:09:56.221Z"
   },
   {
    "duration": 0,
    "start_time": "2025-01-18T18:09:56.542Z"
   },
   {
    "duration": 0,
    "start_time": "2025-01-18T18:09:56.543Z"
   },
   {
    "duration": 9,
    "start_time": "2025-01-18T18:15:39.317Z"
   },
   {
    "duration": 7,
    "start_time": "2025-01-18T18:16:00.553Z"
   },
   {
    "duration": 31,
    "start_time": "2025-01-18T18:17:03.964Z"
   },
   {
    "duration": 4,
    "start_time": "2025-01-18T18:17:29.844Z"
   },
   {
    "duration": 275,
    "start_time": "2025-01-18T18:17:33.116Z"
   },
   {
    "duration": 6,
    "start_time": "2025-01-18T18:19:49.694Z"
   },
   {
    "duration": 3,
    "start_time": "2025-01-18T18:19:52.040Z"
   },
   {
    "duration": 13,
    "start_time": "2025-01-18T18:19:55.519Z"
   },
   {
    "duration": 19,
    "start_time": "2025-01-18T18:26:18.889Z"
   },
   {
    "duration": 4,
    "start_time": "2025-01-18T18:27:27.260Z"
   },
   {
    "duration": 4,
    "start_time": "2025-01-18T18:27:53.400Z"
   },
   {
    "duration": 4,
    "start_time": "2025-01-18T18:28:45.079Z"
   },
   {
    "duration": 1585,
    "start_time": "2025-01-18T18:30:11.446Z"
   },
   {
    "duration": 2,
    "start_time": "2025-01-18T18:30:13.033Z"
   },
   {
    "duration": 935,
    "start_time": "2025-01-18T18:30:13.036Z"
   },
   {
    "duration": 10,
    "start_time": "2025-01-18T18:30:13.973Z"
   },
   {
    "duration": 7,
    "start_time": "2025-01-18T18:30:13.985Z"
   },
   {
    "duration": 45,
    "start_time": "2025-01-18T18:30:13.994Z"
   },
   {
    "duration": 434,
    "start_time": "2025-01-18T18:30:14.041Z"
   },
   {
    "duration": 10,
    "start_time": "2025-01-18T18:30:14.477Z"
   },
   {
    "duration": 232,
    "start_time": "2025-01-18T18:30:14.489Z"
   },
   {
    "duration": 183,
    "start_time": "2025-01-18T18:30:14.723Z"
   },
   {
    "duration": 4,
    "start_time": "2025-01-18T18:30:14.907Z"
   },
   {
    "duration": 68781,
    "start_time": "2025-01-18T18:30:14.912Z"
   },
   {
    "duration": 7,
    "start_time": "2025-01-18T18:31:23.695Z"
   },
   {
    "duration": 19,
    "start_time": "2025-01-18T18:31:23.704Z"
   },
   {
    "duration": 46,
    "start_time": "2025-01-18T18:31:23.724Z"
   },
   {
    "duration": 103,
    "start_time": "2025-01-18T18:31:23.772Z"
   },
   {
    "duration": 269,
    "start_time": "2025-01-18T18:31:23.877Z"
   },
   {
    "duration": 4,
    "start_time": "2025-01-18T18:31:24.148Z"
   },
   {
    "duration": 48,
    "start_time": "2025-01-18T18:31:24.153Z"
   },
   {
    "duration": 4,
    "start_time": "2025-01-18T18:31:24.203Z"
   },
   {
    "duration": 5,
    "start_time": "2025-01-18T18:31:24.208Z"
   },
   {
    "duration": 101,
    "start_time": "2025-01-18T18:31:24.214Z"
   },
   {
    "duration": 10,
    "start_time": "2025-01-18T18:31:24.317Z"
   },
   {
    "duration": 5,
    "start_time": "2025-01-18T18:31:24.329Z"
   },
   {
    "duration": 7,
    "start_time": "2025-01-18T18:31:24.336Z"
   },
   {
    "duration": 6,
    "start_time": "2025-01-18T18:31:24.344Z"
   },
   {
    "duration": 82,
    "start_time": "2025-01-18T18:31:24.351Z"
   },
   {
    "duration": 0,
    "start_time": "2025-01-18T18:31:24.435Z"
   },
   {
    "duration": 0,
    "start_time": "2025-01-18T18:31:24.436Z"
   },
   {
    "duration": 0,
    "start_time": "2025-01-18T18:31:24.438Z"
   },
   {
    "duration": 0,
    "start_time": "2025-01-18T18:31:24.439Z"
   },
   {
    "duration": 0,
    "start_time": "2025-01-18T18:31:24.440Z"
   },
   {
    "duration": 0,
    "start_time": "2025-01-18T18:31:24.441Z"
   },
   {
    "duration": 0,
    "start_time": "2025-01-18T18:31:24.442Z"
   },
   {
    "duration": 0,
    "start_time": "2025-01-18T18:31:24.443Z"
   },
   {
    "duration": 9,
    "start_time": "2025-01-18T18:31:46.977Z"
   },
   {
    "duration": 14,
    "start_time": "2025-01-18T18:32:14.472Z"
   },
   {
    "duration": 90,
    "start_time": "2025-01-18T18:32:16.525Z"
   },
   {
    "duration": 9,
    "start_time": "2025-01-18T18:32:18.379Z"
   },
   {
    "duration": 8,
    "start_time": "2025-01-18T18:32:22.115Z"
   },
   {
    "duration": 7,
    "start_time": "2025-01-18T18:32:29.338Z"
   },
   {
    "duration": 4,
    "start_time": "2025-01-18T18:32:29.797Z"
   },
   {
    "duration": 2424,
    "start_time": "2025-01-18T18:32:43.779Z"
   },
   {
    "duration": 3,
    "start_time": "2025-01-18T18:32:47.698Z"
   },
   {
    "duration": 3916,
    "start_time": "2025-01-18T18:33:05.107Z"
   },
   {
    "duration": 4,
    "start_time": "2025-01-18T18:33:13.426Z"
   },
   {
    "duration": 4,
    "start_time": "2025-01-18T18:33:19.581Z"
   },
   {
    "duration": 3,
    "start_time": "2025-01-18T18:33:30.299Z"
   },
   {
    "duration": 0,
    "start_time": "2025-01-18T18:41:42.826Z"
   },
   {
    "duration": 0,
    "start_time": "2025-01-18T18:41:42.828Z"
   },
   {
    "duration": 1510,
    "start_time": "2025-01-18T18:42:04.180Z"
   },
   {
    "duration": 2,
    "start_time": "2025-01-18T18:42:05.692Z"
   },
   {
    "duration": 904,
    "start_time": "2025-01-18T18:42:05.695Z"
   },
   {
    "duration": 10,
    "start_time": "2025-01-18T18:42:06.600Z"
   },
   {
    "duration": 17,
    "start_time": "2025-01-18T18:42:06.612Z"
   },
   {
    "duration": 32,
    "start_time": "2025-01-18T18:42:06.631Z"
   },
   {
    "duration": 384,
    "start_time": "2025-01-18T18:42:06.664Z"
   },
   {
    "duration": 13,
    "start_time": "2025-01-18T18:42:07.049Z"
   },
   {
    "duration": 310,
    "start_time": "2025-01-18T18:42:07.063Z"
   },
   {
    "duration": 241,
    "start_time": "2025-01-18T18:42:07.375Z"
   },
   {
    "duration": 4,
    "start_time": "2025-01-18T18:42:07.618Z"
   },
   {
    "duration": 68731,
    "start_time": "2025-01-18T18:42:07.624Z"
   },
   {
    "duration": 8,
    "start_time": "2025-01-18T18:43:16.357Z"
   },
   {
    "duration": 7,
    "start_time": "2025-01-18T18:43:16.367Z"
   },
   {
    "duration": 46,
    "start_time": "2025-01-18T18:43:16.375Z"
   },
   {
    "duration": 90,
    "start_time": "2025-01-18T18:43:16.423Z"
   },
   {
    "duration": 264,
    "start_time": "2025-01-18T18:43:16.522Z"
   },
   {
    "duration": 4,
    "start_time": "2025-01-18T18:43:16.787Z"
   },
   {
    "duration": 29,
    "start_time": "2025-01-18T18:43:16.792Z"
   },
   {
    "duration": 4,
    "start_time": "2025-01-18T18:43:16.823Z"
   },
   {
    "duration": 14,
    "start_time": "2025-01-18T18:43:16.828Z"
   },
   {
    "duration": 6,
    "start_time": "2025-01-18T18:43:16.844Z"
   },
   {
    "duration": 104,
    "start_time": "2025-01-18T18:43:16.851Z"
   },
   {
    "duration": 9,
    "start_time": "2025-01-18T18:43:16.957Z"
   },
   {
    "duration": 6,
    "start_time": "2025-01-18T18:43:16.968Z"
   },
   {
    "duration": 8,
    "start_time": "2025-01-18T18:43:16.976Z"
   },
   {
    "duration": 4050,
    "start_time": "2025-01-18T18:43:16.986Z"
   },
   {
    "duration": 4,
    "start_time": "2025-01-18T18:43:21.038Z"
   },
   {
    "duration": 24,
    "start_time": "2025-01-18T18:43:21.043Z"
   },
   {
    "duration": 159,
    "start_time": "2025-01-18T18:43:21.068Z"
   },
   {
    "duration": 0,
    "start_time": "2025-01-18T18:43:21.229Z"
   },
   {
    "duration": 0,
    "start_time": "2025-01-18T18:43:21.230Z"
   },
   {
    "duration": 0,
    "start_time": "2025-01-18T18:43:21.231Z"
   },
   {
    "duration": 0,
    "start_time": "2025-01-18T18:43:21.232Z"
   },
   {
    "duration": 0,
    "start_time": "2025-01-18T18:43:21.233Z"
   },
   {
    "duration": 0,
    "start_time": "2025-01-18T18:43:21.234Z"
   },
   {
    "duration": 0,
    "start_time": "2025-01-18T18:43:21.235Z"
   },
   {
    "duration": 3,
    "start_time": "2025-01-18T18:43:29.389Z"
   },
   {
    "duration": 300291,
    "start_time": "2025-01-18T18:48:29.333Z"
   },
   {
    "duration": 94,
    "start_time": "2025-01-18T18:53:29.627Z"
   },
   {
    "duration": 3,
    "start_time": "2025-01-18T18:58:02.903Z"
   },
   {
    "duration": 1785900,
    "start_time": "2025-01-18T18:58:07.582Z"
   },
   {
    "duration": 4,
    "start_time": "2025-01-18T19:27:53.484Z"
   },
   {
    "duration": 1746,
    "start_time": "2025-01-19T11:09:25.398Z"
   },
   {
    "duration": 3,
    "start_time": "2025-01-19T11:09:27.146Z"
   },
   {
    "duration": 1314,
    "start_time": "2025-01-19T11:09:27.151Z"
   },
   {
    "duration": 13,
    "start_time": "2025-01-19T11:09:28.467Z"
   },
   {
    "duration": 28,
    "start_time": "2025-01-19T11:09:28.483Z"
   },
   {
    "duration": 34,
    "start_time": "2025-01-19T11:09:28.513Z"
   },
   {
    "duration": 461,
    "start_time": "2025-01-19T11:09:28.549Z"
   },
   {
    "duration": 10,
    "start_time": "2025-01-19T11:09:29.021Z"
   },
   {
    "duration": 292,
    "start_time": "2025-01-19T11:09:29.033Z"
   },
   {
    "duration": 135,
    "start_time": "2025-01-19T11:09:29.327Z"
   },
   {
    "duration": 0,
    "start_time": "2025-01-19T11:09:29.465Z"
   },
   {
    "duration": 0,
    "start_time": "2025-01-19T11:09:29.467Z"
   },
   {
    "duration": 0,
    "start_time": "2025-01-19T11:09:29.468Z"
   },
   {
    "duration": 0,
    "start_time": "2025-01-19T11:09:29.470Z"
   },
   {
    "duration": 0,
    "start_time": "2025-01-19T11:09:29.471Z"
   },
   {
    "duration": 0,
    "start_time": "2025-01-19T11:09:29.472Z"
   },
   {
    "duration": 0,
    "start_time": "2025-01-19T11:09:29.474Z"
   },
   {
    "duration": 0,
    "start_time": "2025-01-19T11:09:29.475Z"
   },
   {
    "duration": 0,
    "start_time": "2025-01-19T11:09:29.478Z"
   },
   {
    "duration": 0,
    "start_time": "2025-01-19T11:09:29.479Z"
   },
   {
    "duration": 0,
    "start_time": "2025-01-19T11:09:29.481Z"
   },
   {
    "duration": 0,
    "start_time": "2025-01-19T11:09:29.482Z"
   },
   {
    "duration": 0,
    "start_time": "2025-01-19T11:09:29.483Z"
   },
   {
    "duration": 0,
    "start_time": "2025-01-19T11:09:29.484Z"
   },
   {
    "duration": 0,
    "start_time": "2025-01-19T11:09:29.485Z"
   },
   {
    "duration": 0,
    "start_time": "2025-01-19T11:09:29.486Z"
   },
   {
    "duration": 0,
    "start_time": "2025-01-19T11:09:29.487Z"
   },
   {
    "duration": 0,
    "start_time": "2025-01-19T11:09:29.487Z"
   },
   {
    "duration": 0,
    "start_time": "2025-01-19T11:09:29.488Z"
   },
   {
    "duration": 0,
    "start_time": "2025-01-19T11:09:29.521Z"
   },
   {
    "duration": 0,
    "start_time": "2025-01-19T11:09:29.522Z"
   },
   {
    "duration": 0,
    "start_time": "2025-01-19T11:09:29.523Z"
   },
   {
    "duration": 0,
    "start_time": "2025-01-19T11:09:29.525Z"
   },
   {
    "duration": 0,
    "start_time": "2025-01-19T11:09:29.526Z"
   },
   {
    "duration": 0,
    "start_time": "2025-01-19T11:09:29.527Z"
   },
   {
    "duration": 0,
    "start_time": "2025-01-19T11:09:29.528Z"
   },
   {
    "duration": 0,
    "start_time": "2025-01-19T11:09:29.529Z"
   },
   {
    "duration": 5,
    "start_time": "2025-01-19T11:13:03.763Z"
   },
   {
    "duration": 37,
    "start_time": "2025-01-19T11:13:58.629Z"
   },
   {
    "duration": 707,
    "start_time": "2025-01-19T11:14:17.314Z"
   },
   {
    "duration": 17,
    "start_time": "2025-01-19T11:14:30.822Z"
   },
   {
    "duration": 7,
    "start_time": "2025-01-19T11:14:38.694Z"
   },
   {
    "duration": 4,
    "start_time": "2025-01-19T11:15:16.659Z"
   },
   {
    "duration": 4,
    "start_time": "2025-01-19T11:15:21.658Z"
   },
   {
    "duration": 4,
    "start_time": "2025-01-19T11:15:26.899Z"
   },
   {
    "duration": 3,
    "start_time": "2025-01-19T11:27:23.979Z"
   },
   {
    "duration": 332,
    "start_time": "2025-01-19T11:27:42.562Z"
   },
   {
    "duration": 7,
    "start_time": "2025-01-19T11:30:01.719Z"
   },
   {
    "duration": 264,
    "start_time": "2025-01-19T11:30:02.641Z"
   },
   {
    "duration": 4,
    "start_time": "2025-01-19T11:30:16.709Z"
   },
   {
    "duration": 50,
    "start_time": "2025-01-19T11:30:50.658Z"
   },
   {
    "duration": 5,
    "start_time": "2025-01-19T11:32:46.284Z"
   },
   {
    "duration": 37,
    "start_time": "2025-01-19T11:32:46.981Z"
   },
   {
    "duration": 276,
    "start_time": "2025-01-19T11:32:48.800Z"
   },
   {
    "duration": 4,
    "start_time": "2025-01-19T11:33:10.385Z"
   },
   {
    "duration": 447,
    "start_time": "2025-01-19T11:33:10.796Z"
   },
   {
    "duration": 274,
    "start_time": "2025-01-19T11:33:11.316Z"
   },
   {
    "duration": 5,
    "start_time": "2025-01-19T11:34:03.050Z"
   },
   {
    "duration": 441,
    "start_time": "2025-01-19T11:34:03.431Z"
   },
   {
    "duration": 6,
    "start_time": "2025-01-19T11:34:10.535Z"
   },
   {
    "duration": 357,
    "start_time": "2025-01-19T11:34:10.952Z"
   },
   {
    "duration": 5,
    "start_time": "2025-01-19T11:34:29.788Z"
   },
   {
    "duration": 374,
    "start_time": "2025-01-19T11:34:30.564Z"
   },
   {
    "duration": 4,
    "start_time": "2025-01-19T11:35:45.166Z"
   },
   {
    "duration": 46,
    "start_time": "2025-01-19T11:35:45.736Z"
   },
   {
    "duration": 260,
    "start_time": "2025-01-19T11:35:47.028Z"
   },
   {
    "duration": 4,
    "start_time": "2025-01-19T11:35:56.866Z"
   },
   {
    "duration": 38,
    "start_time": "2025-01-19T11:35:57.246Z"
   },
   {
    "duration": 295,
    "start_time": "2025-01-19T11:35:57.988Z"
   },
   {
    "duration": 235,
    "start_time": "2025-01-19T11:36:00.462Z"
   },
   {
    "duration": 4,
    "start_time": "2025-01-19T11:36:02.054Z"
   },
   {
    "duration": 7,
    "start_time": "2025-01-19T11:36:25.739Z"
   },
   {
    "duration": 15936,
    "start_time": "2025-01-19T11:36:38.023Z"
   },
   {
    "duration": 6,
    "start_time": "2025-01-19T11:36:53.961Z"
   },
   {
    "duration": 10,
    "start_time": "2025-01-19T11:36:53.969Z"
   },
   {
    "duration": 8,
    "start_time": "2025-01-19T11:36:53.981Z"
   },
   {
    "duration": 20,
    "start_time": "2025-01-19T11:36:57.394Z"
   },
   {
    "duration": 424,
    "start_time": "2025-01-19T11:37:01.904Z"
   },
   {
    "duration": 4,
    "start_time": "2025-01-19T11:37:07.398Z"
   },
   {
    "duration": 1394,
    "start_time": "2025-01-19T11:37:49.963Z"
   },
   {
    "duration": 1511,
    "start_time": "2025-01-19T11:37:56.797Z"
   },
   {
    "duration": 3,
    "start_time": "2025-01-19T11:37:58.343Z"
   },
   {
    "duration": 7,
    "start_time": "2025-01-19T11:38:17.483Z"
   },
   {
    "duration": 4,
    "start_time": "2025-01-19T11:38:18.869Z"
   },
   {
    "duration": 5,
    "start_time": "2025-01-19T11:38:23.340Z"
   },
   {
    "duration": 4,
    "start_time": "2025-01-19T11:38:29.597Z"
   },
   {
    "duration": 1483,
    "start_time": "2025-01-19T11:39:07.065Z"
   },
   {
    "duration": 3,
    "start_time": "2025-01-19T11:39:08.550Z"
   },
   {
    "duration": 923,
    "start_time": "2025-01-19T11:39:08.554Z"
   },
   {
    "duration": 10,
    "start_time": "2025-01-19T11:39:09.479Z"
   },
   {
    "duration": 9,
    "start_time": "2025-01-19T11:39:09.491Z"
   },
   {
    "duration": 49,
    "start_time": "2025-01-19T11:39:09.502Z"
   },
   {
    "duration": 5,
    "start_time": "2025-01-19T11:39:09.552Z"
   },
   {
    "duration": 367,
    "start_time": "2025-01-19T11:39:09.559Z"
   },
   {
    "duration": 12,
    "start_time": "2025-01-19T11:39:09.928Z"
   },
   {
    "duration": 267,
    "start_time": "2025-01-19T11:39:09.943Z"
   },
   {
    "duration": 3,
    "start_time": "2025-01-19T11:39:10.211Z"
   },
   {
    "duration": 8,
    "start_time": "2025-01-19T11:39:10.222Z"
   },
   {
    "duration": 48,
    "start_time": "2025-01-19T11:39:10.231Z"
   },
   {
    "duration": 6,
    "start_time": "2025-01-19T11:39:10.281Z"
   },
   {
    "duration": 294,
    "start_time": "2025-01-19T11:39:10.288Z"
   },
   {
    "duration": 129,
    "start_time": "2025-01-19T11:39:10.583Z"
   },
   {
    "duration": 4,
    "start_time": "2025-01-19T11:39:10.713Z"
   },
   {
    "duration": 15536,
    "start_time": "2025-01-19T11:39:10.718Z"
   },
   {
    "duration": 8,
    "start_time": "2025-01-19T11:39:26.256Z"
   },
   {
    "duration": 16,
    "start_time": "2025-01-19T11:39:26.265Z"
   },
   {
    "duration": 24,
    "start_time": "2025-01-19T11:39:26.282Z"
   },
   {
    "duration": 34,
    "start_time": "2025-01-19T11:39:26.308Z"
   },
   {
    "duration": 278,
    "start_time": "2025-01-19T11:39:26.343Z"
   },
   {
    "duration": 5,
    "start_time": "2025-01-19T11:39:26.623Z"
   },
   {
    "duration": 12,
    "start_time": "2025-01-19T11:39:26.630Z"
   },
   {
    "duration": 7,
    "start_time": "2025-01-19T11:39:26.643Z"
   },
   {
    "duration": 5,
    "start_time": "2025-01-19T11:39:26.651Z"
   },
   {
    "duration": 2,
    "start_time": "2025-01-19T11:39:26.660Z"
   },
   {
    "duration": 37,
    "start_time": "2025-01-19T11:39:26.664Z"
   },
   {
    "duration": 28,
    "start_time": "2025-01-19T11:39:26.703Z"
   },
   {
    "duration": 6,
    "start_time": "2025-01-19T11:39:26.733Z"
   },
   {
    "duration": 18,
    "start_time": "2025-01-19T11:39:26.741Z"
   },
   {
    "duration": 144,
    "start_time": "2025-01-19T11:39:26.761Z"
   },
   {
    "duration": 0,
    "start_time": "2025-01-19T11:39:26.906Z"
   },
   {
    "duration": 0,
    "start_time": "2025-01-19T11:39:26.908Z"
   },
   {
    "duration": 0,
    "start_time": "2025-01-19T11:39:26.909Z"
   },
   {
    "duration": 0,
    "start_time": "2025-01-19T11:39:26.922Z"
   },
   {
    "duration": 0,
    "start_time": "2025-01-19T11:39:26.923Z"
   },
   {
    "duration": 0,
    "start_time": "2025-01-19T11:39:26.925Z"
   },
   {
    "duration": 0,
    "start_time": "2025-01-19T11:39:26.926Z"
   },
   {
    "duration": 0,
    "start_time": "2025-01-19T11:39:26.928Z"
   },
   {
    "duration": 0,
    "start_time": "2025-01-19T11:39:26.929Z"
   },
   {
    "duration": 0,
    "start_time": "2025-01-19T11:39:26.931Z"
   },
   {
    "duration": 806,
    "start_time": "2025-01-19T11:39:56.978Z"
   },
   {
    "duration": 4,
    "start_time": "2025-01-19T11:40:00.452Z"
   },
   {
    "duration": 4,
    "start_time": "2025-01-19T11:40:00.779Z"
   },
   {
    "duration": 86,
    "start_time": "2025-01-19T11:40:09.385Z"
   },
   {
    "duration": 9,
    "start_time": "2025-01-19T11:40:09.791Z"
   },
   {
    "duration": 3,
    "start_time": "2025-01-19T11:40:22.544Z"
   },
   {
    "duration": 221096,
    "start_time": "2025-01-19T11:40:24.857Z"
   },
   {
    "duration": 3,
    "start_time": "2025-01-19T11:44:05.955Z"
   },
   {
    "duration": 1522,
    "start_time": "2025-01-19T12:16:18.408Z"
   },
   {
    "duration": 3,
    "start_time": "2025-01-19T12:16:19.931Z"
   },
   {
    "duration": 916,
    "start_time": "2025-01-19T12:16:19.935Z"
   },
   {
    "duration": 11,
    "start_time": "2025-01-19T12:16:20.853Z"
   },
   {
    "duration": 10,
    "start_time": "2025-01-19T12:16:20.866Z"
   },
   {
    "duration": 48,
    "start_time": "2025-01-19T12:16:20.878Z"
   },
   {
    "duration": 6,
    "start_time": "2025-01-19T12:16:20.927Z"
   },
   {
    "duration": 342,
    "start_time": "2025-01-19T12:16:20.934Z"
   },
   {
    "duration": 10,
    "start_time": "2025-01-19T12:16:21.278Z"
   },
   {
    "duration": 271,
    "start_time": "2025-01-19T12:16:21.290Z"
   },
   {
    "duration": 2,
    "start_time": "2025-01-19T12:16:21.563Z"
   },
   {
    "duration": 242,
    "start_time": "2025-01-19T12:16:21.566Z"
   },
   {
    "duration": 3,
    "start_time": "2025-01-19T12:16:21.810Z"
   },
   {
    "duration": 71500,
    "start_time": "2025-01-19T12:16:21.816Z"
   },
   {
    "duration": 10,
    "start_time": "2025-01-19T12:17:33.317Z"
   },
   {
    "duration": 28,
    "start_time": "2025-01-19T12:17:33.329Z"
   },
   {
    "duration": 56,
    "start_time": "2025-01-19T12:17:33.358Z"
   },
   {
    "duration": 99,
    "start_time": "2025-01-19T12:17:33.416Z"
   },
   {
    "duration": 285,
    "start_time": "2025-01-19T12:17:33.522Z"
   },
   {
    "duration": 3,
    "start_time": "2025-01-19T12:17:33.809Z"
   },
   {
    "duration": 51,
    "start_time": "2025-01-19T12:17:33.814Z"
   },
   {
    "duration": 35,
    "start_time": "2025-01-19T12:17:33.866Z"
   },
   {
    "duration": 31,
    "start_time": "2025-01-19T12:17:33.903Z"
   },
   {
    "duration": 16,
    "start_time": "2025-01-19T12:17:33.936Z"
   },
   {
    "duration": 160,
    "start_time": "2025-01-19T12:17:33.953Z"
   },
   {
    "duration": 0,
    "start_time": "2025-01-19T12:17:34.114Z"
   },
   {
    "duration": 0,
    "start_time": "2025-01-19T12:17:34.115Z"
   },
   {
    "duration": 0,
    "start_time": "2025-01-19T12:17:34.116Z"
   },
   {
    "duration": 0,
    "start_time": "2025-01-19T12:17:34.121Z"
   },
   {
    "duration": 0,
    "start_time": "2025-01-19T12:17:34.122Z"
   },
   {
    "duration": 0,
    "start_time": "2025-01-19T12:17:34.123Z"
   },
   {
    "duration": 0,
    "start_time": "2025-01-19T12:17:34.124Z"
   },
   {
    "duration": 0,
    "start_time": "2025-01-19T12:17:34.126Z"
   },
   {
    "duration": 0,
    "start_time": "2025-01-19T12:17:34.127Z"
   },
   {
    "duration": 0,
    "start_time": "2025-01-19T12:17:34.129Z"
   },
   {
    "duration": 0,
    "start_time": "2025-01-19T12:17:34.130Z"
   },
   {
    "duration": 107,
    "start_time": "2025-01-19T12:17:38.474Z"
   },
   {
    "duration": 14,
    "start_time": "2025-01-19T12:18:04.047Z"
   },
   {
    "duration": 6,
    "start_time": "2025-01-19T12:18:28.967Z"
   },
   {
    "duration": 4,
    "start_time": "2025-01-19T12:18:37.291Z"
   },
   {
    "duration": 15,
    "start_time": "2025-01-19T12:19:08.435Z"
   },
   {
    "duration": 4,
    "start_time": "2025-01-19T12:20:32.838Z"
   },
   {
    "duration": 17,
    "start_time": "2025-01-19T12:20:34.218Z"
   },
   {
    "duration": 6,
    "start_time": "2025-01-19T12:20:34.576Z"
   },
   {
    "duration": 6,
    "start_time": "2025-01-19T12:20:39.238Z"
   },
   {
    "duration": 219,
    "start_time": "2025-01-19T12:20:41.130Z"
   },
   {
    "duration": 10,
    "start_time": "2025-01-19T12:20:45.593Z"
   },
   {
    "duration": 4,
    "start_time": "2025-01-19T12:26:20.023Z"
   },
   {
    "duration": 16,
    "start_time": "2025-01-19T12:26:21.413Z"
   },
   {
    "duration": 9,
    "start_time": "2025-01-19T12:26:22.548Z"
   },
   {
    "duration": 5,
    "start_time": "2025-01-19T12:26:50.540Z"
   },
   {
    "duration": 19,
    "start_time": "2025-01-19T12:26:50.969Z"
   },
   {
    "duration": 8,
    "start_time": "2025-01-19T12:26:52.107Z"
   },
   {
    "duration": 4,
    "start_time": "2025-01-19T12:27:04.469Z"
   },
   {
    "duration": 4104,
    "start_time": "2025-01-19T12:27:04.907Z"
   },
   {
    "duration": 9,
    "start_time": "2025-01-19T12:27:09.013Z"
   },
   {
    "duration": 310802,
    "start_time": "2025-01-19T12:27:09.023Z"
   },
   {
    "duration": 6,
    "start_time": "2025-01-19T12:32:19.827Z"
   },
   {
    "duration": 5,
    "start_time": "2025-01-19T12:35:37.099Z"
   },
   {
    "duration": 19,
    "start_time": "2025-01-19T12:35:37.574Z"
   },
   {
    "duration": 9,
    "start_time": "2025-01-19T12:35:38.105Z"
   },
   {
    "duration": 3,
    "start_time": "2025-01-19T12:35:41.754Z"
   },
   {
    "duration": 3942,
    "start_time": "2025-01-19T12:35:42.163Z"
   },
   {
    "duration": 3,
    "start_time": "2025-01-19T12:35:46.107Z"
   },
   {
    "duration": 293118,
    "start_time": "2025-01-19T12:35:46.112Z"
   },
   {
    "duration": 89,
    "start_time": "2025-01-19T12:40:39.233Z"
   },
   {
    "duration": 25,
    "start_time": "2025-01-19T12:41:48.415Z"
   },
   {
    "duration": 27,
    "start_time": "2025-01-19T12:41:54.381Z"
   },
   {
    "duration": 27,
    "start_time": "2025-01-19T12:42:21.411Z"
   },
   {
    "duration": 26,
    "start_time": "2025-01-19T12:42:31.106Z"
   },
   {
    "duration": 5,
    "start_time": "2025-01-19T12:42:51.579Z"
   },
   {
    "duration": 18,
    "start_time": "2025-01-19T12:42:51.992Z"
   },
   {
    "duration": 10,
    "start_time": "2025-01-19T12:42:52.448Z"
   },
   {
    "duration": 3,
    "start_time": "2025-01-19T12:42:55.276Z"
   },
   {
    "duration": 4120,
    "start_time": "2025-01-19T12:42:55.718Z"
   },
   {
    "duration": 4,
    "start_time": "2025-01-19T12:42:59.840Z"
   },
   {
    "duration": 323679,
    "start_time": "2025-01-19T12:42:59.845Z"
   },
   {
    "duration": 95,
    "start_time": "2025-01-19T12:48:23.528Z"
   },
   {
    "duration": 50,
    "start_time": "2025-01-19T12:48:23.625Z"
   },
   {
    "duration": 29,
    "start_time": "2025-01-19T12:48:23.677Z"
   },
   {
    "duration": 104,
    "start_time": "2025-01-19T12:49:28.439Z"
   },
   {
    "duration": 5,
    "start_time": "2025-01-19T12:49:37.239Z"
   },
   {
    "duration": 20,
    "start_time": "2025-01-19T12:49:38.828Z"
   },
   {
    "duration": 4,
    "start_time": "2025-01-19T12:50:29.172Z"
   },
   {
    "duration": 18,
    "start_time": "2025-01-19T12:50:29.648Z"
   },
   {
    "duration": 209,
    "start_time": "2025-01-19T12:50:30.247Z"
   },
   {
    "duration": 9,
    "start_time": "2025-01-19T12:50:37.484Z"
   },
   {
    "duration": 20,
    "start_time": "2025-01-19T13:04:20.461Z"
   },
   {
    "duration": 4481,
    "start_time": "2025-01-19T13:04:20.854Z"
   },
   {
    "duration": 5,
    "start_time": "2025-01-19T13:04:25.337Z"
   },
   {
    "duration": 4875221,
    "start_time": "2025-01-19T13:04:25.343Z"
   },
   {
    "duration": 3,
    "start_time": "2025-01-19T14:25:40.565Z"
   },
   {
    "duration": 83519,
    "start_time": "2025-01-19T14:25:40.570Z"
   },
   {
    "duration": 82941,
    "start_time": "2025-01-19T14:27:04.090Z"
   },
   {
    "duration": 324,
    "start_time": "2025-01-19T14:43:43.853Z"
   },
   {
    "duration": 0,
    "start_time": "2025-01-19T14:43:44.180Z"
   },
   {
    "duration": 0,
    "start_time": "2025-01-19T14:43:44.181Z"
   },
   {
    "duration": 0,
    "start_time": "2025-01-19T14:43:44.182Z"
   },
   {
    "duration": 0,
    "start_time": "2025-01-19T14:43:44.183Z"
   },
   {
    "duration": 0,
    "start_time": "2025-01-19T14:43:44.184Z"
   },
   {
    "duration": 0,
    "start_time": "2025-01-19T14:43:44.185Z"
   },
   {
    "duration": 0,
    "start_time": "2025-01-19T14:43:44.186Z"
   },
   {
    "duration": 1,
    "start_time": "2025-01-19T14:43:44.187Z"
   },
   {
    "duration": 0,
    "start_time": "2025-01-19T14:43:44.188Z"
   },
   {
    "duration": 0,
    "start_time": "2025-01-19T14:43:44.189Z"
   },
   {
    "duration": 0,
    "start_time": "2025-01-19T14:43:44.190Z"
   },
   {
    "duration": 0,
    "start_time": "2025-01-19T14:43:44.191Z"
   },
   {
    "duration": 0,
    "start_time": "2025-01-19T14:43:44.192Z"
   },
   {
    "duration": 0,
    "start_time": "2025-01-19T14:43:44.193Z"
   },
   {
    "duration": 0,
    "start_time": "2025-01-19T14:43:44.222Z"
   },
   {
    "duration": 0,
    "start_time": "2025-01-19T14:43:44.223Z"
   },
   {
    "duration": 0,
    "start_time": "2025-01-19T14:43:44.224Z"
   },
   {
    "duration": 0,
    "start_time": "2025-01-19T14:43:44.225Z"
   },
   {
    "duration": 0,
    "start_time": "2025-01-19T14:43:44.226Z"
   },
   {
    "duration": 0,
    "start_time": "2025-01-19T14:43:44.227Z"
   },
   {
    "duration": 0,
    "start_time": "2025-01-19T14:43:44.228Z"
   },
   {
    "duration": 0,
    "start_time": "2025-01-19T14:43:44.229Z"
   },
   {
    "duration": 0,
    "start_time": "2025-01-19T14:43:44.229Z"
   },
   {
    "duration": 0,
    "start_time": "2025-01-19T14:43:44.230Z"
   },
   {
    "duration": 0,
    "start_time": "2025-01-19T14:43:44.231Z"
   },
   {
    "duration": 0,
    "start_time": "2025-01-19T14:43:44.232Z"
   },
   {
    "duration": 0,
    "start_time": "2025-01-19T14:43:44.233Z"
   },
   {
    "duration": 0,
    "start_time": "2025-01-19T14:43:44.234Z"
   },
   {
    "duration": 0,
    "start_time": "2025-01-19T14:43:44.235Z"
   },
   {
    "duration": 0,
    "start_time": "2025-01-19T14:43:44.236Z"
   },
   {
    "duration": 0,
    "start_time": "2025-01-19T14:43:44.237Z"
   },
   {
    "duration": 0,
    "start_time": "2025-01-19T14:43:44.239Z"
   },
   {
    "duration": 1603,
    "start_time": "2025-01-19T14:44:36.213Z"
   },
   {
    "duration": 3,
    "start_time": "2025-01-19T14:44:37.818Z"
   },
   {
    "duration": 971,
    "start_time": "2025-01-19T14:44:37.823Z"
   },
   {
    "duration": 11,
    "start_time": "2025-01-19T14:44:38.796Z"
   },
   {
    "duration": 23,
    "start_time": "2025-01-19T14:44:38.808Z"
   },
   {
    "duration": 36,
    "start_time": "2025-01-19T14:44:38.833Z"
   },
   {
    "duration": 5,
    "start_time": "2025-01-19T14:44:38.871Z"
   },
   {
    "duration": 377,
    "start_time": "2025-01-19T14:44:38.878Z"
   },
   {
    "duration": 11,
    "start_time": "2025-01-19T14:44:39.256Z"
   },
   {
    "duration": 237,
    "start_time": "2025-01-19T14:44:39.270Z"
   },
   {
    "duration": 3,
    "start_time": "2025-01-19T14:44:39.508Z"
   },
   {
    "duration": 170,
    "start_time": "2025-01-19T14:44:39.512Z"
   },
   {
    "duration": 4,
    "start_time": "2025-01-19T14:44:39.684Z"
   },
   {
    "duration": 70545,
    "start_time": "2025-01-19T14:44:39.689Z"
   },
   {
    "duration": 8,
    "start_time": "2025-01-19T14:45:50.236Z"
   },
   {
    "duration": 18,
    "start_time": "2025-01-19T14:45:50.245Z"
   },
   {
    "duration": 51,
    "start_time": "2025-01-19T14:45:50.264Z"
   },
   {
    "duration": 106,
    "start_time": "2025-01-19T14:45:50.316Z"
   },
   {
    "duration": 266,
    "start_time": "2025-01-19T14:45:50.423Z"
   },
   {
    "duration": 3,
    "start_time": "2025-01-19T14:45:50.691Z"
   },
   {
    "duration": 45,
    "start_time": "2025-01-19T14:45:50.696Z"
   },
   {
    "duration": 3,
    "start_time": "2025-01-19T14:45:50.742Z"
   },
   {
    "duration": 16,
    "start_time": "2025-01-19T14:45:50.747Z"
   },
   {
    "duration": 9,
    "start_time": "2025-01-19T14:45:50.765Z"
   },
   {
    "duration": 124,
    "start_time": "2025-01-19T14:45:50.775Z"
   },
   {
    "duration": 5,
    "start_time": "2025-01-19T14:45:50.901Z"
   },
   {
    "duration": 44,
    "start_time": "2025-01-19T14:45:50.907Z"
   },
   {
    "duration": 224,
    "start_time": "2025-01-19T14:45:50.955Z"
   },
   {
    "duration": 42,
    "start_time": "2025-01-19T14:45:51.181Z"
   },
   {
    "duration": 58,
    "start_time": "2025-01-19T14:45:51.225Z"
   },
   {
    "duration": 4193,
    "start_time": "2025-01-19T14:45:51.285Z"
   },
   {
    "duration": 4,
    "start_time": "2025-01-19T14:45:55.480Z"
   },
   {
    "duration": 4973332,
    "start_time": "2025-01-19T14:45:55.485Z"
   },
   {
    "duration": 104,
    "start_time": "2025-01-19T16:22:00.432Z"
   },
   {
    "duration": 3,
    "start_time": "2025-01-19T16:22:07.014Z"
   },
   {
    "duration": 22499,
    "start_time": "2025-01-19T16:22:33.127Z"
   },
   {
    "duration": 25,
    "start_time": "2025-01-19T16:23:27.663Z"
   },
   {
    "duration": 1488,
    "start_time": "2025-01-19T16:24:43.738Z"
   },
   {
    "duration": 3,
    "start_time": "2025-01-19T16:24:45.228Z"
   },
   {
    "duration": 989,
    "start_time": "2025-01-19T16:24:45.232Z"
   },
   {
    "duration": 11,
    "start_time": "2025-01-19T16:24:46.222Z"
   },
   {
    "duration": 7,
    "start_time": "2025-01-19T16:24:46.235Z"
   },
   {
    "duration": 45,
    "start_time": "2025-01-19T16:24:46.244Z"
   },
   {
    "duration": 6,
    "start_time": "2025-01-19T16:24:46.291Z"
   },
   {
    "duration": 363,
    "start_time": "2025-01-19T16:24:46.299Z"
   },
   {
    "duration": 11,
    "start_time": "2025-01-19T16:24:46.664Z"
   },
   {
    "duration": 232,
    "start_time": "2025-01-19T16:24:46.676Z"
   },
   {
    "duration": 4,
    "start_time": "2025-01-19T16:24:46.909Z"
   },
   {
    "duration": 129,
    "start_time": "2025-01-19T16:24:46.922Z"
   },
   {
    "duration": 4,
    "start_time": "2025-01-19T16:24:47.053Z"
   },
   {
    "duration": 69614,
    "start_time": "2025-01-19T16:24:47.059Z"
   },
   {
    "duration": 7,
    "start_time": "2025-01-19T16:25:56.675Z"
   },
   {
    "duration": 21,
    "start_time": "2025-01-19T16:25:56.684Z"
   },
   {
    "duration": 36,
    "start_time": "2025-01-19T16:25:56.706Z"
   },
   {
    "duration": 94,
    "start_time": "2025-01-19T16:25:56.744Z"
   },
   {
    "duration": 273,
    "start_time": "2025-01-19T16:25:56.840Z"
   },
   {
    "duration": 8,
    "start_time": "2025-01-19T16:25:57.115Z"
   },
   {
    "duration": 17,
    "start_time": "2025-01-19T16:25:57.125Z"
   },
   {
    "duration": 3,
    "start_time": "2025-01-19T16:25:57.144Z"
   },
   {
    "duration": 23,
    "start_time": "2025-01-19T16:25:57.148Z"
   },
   {
    "duration": 17,
    "start_time": "2025-01-19T16:25:57.173Z"
   },
   {
    "duration": 119,
    "start_time": "2025-01-19T16:25:57.192Z"
   },
   {
    "duration": 5,
    "start_time": "2025-01-19T16:25:57.313Z"
   },
   {
    "duration": 22,
    "start_time": "2025-01-19T16:25:57.319Z"
   },
   {
    "duration": 221,
    "start_time": "2025-01-19T16:25:57.343Z"
   },
   {
    "duration": 9,
    "start_time": "2025-01-19T16:25:57.565Z"
   },
   {
    "duration": 28,
    "start_time": "2025-01-19T16:25:57.575Z"
   },
   {
    "duration": 3353,
    "start_time": "2025-01-19T16:25:57.605Z"
   },
   {
    "duration": 4,
    "start_time": "2025-01-19T16:26:00.959Z"
   },
   {
    "duration": 189481,
    "start_time": "2025-01-19T16:26:00.964Z"
   },
   {
    "duration": 2,
    "start_time": "2025-01-19T16:29:10.447Z"
   },
   {
    "duration": 144,
    "start_time": "2025-01-19T16:29:10.451Z"
   },
   {
    "duration": 0,
    "start_time": "2025-01-19T16:29:10.597Z"
   },
   {
    "duration": 4,
    "start_time": "2025-01-19T16:34:30.055Z"
   },
   {
    "duration": 3,
    "start_time": "2025-01-19T16:34:31.517Z"
   },
   {
    "duration": 4,
    "start_time": "2025-01-19T16:35:31.395Z"
   },
   {
    "duration": 19,
    "start_time": "2025-01-19T16:41:52.874Z"
   },
   {
    "duration": 7341,
    "start_time": "2025-01-19T16:43:48.029Z"
   },
   {
    "duration": 4,
    "start_time": "2025-01-19T16:44:08.717Z"
   },
   {
    "duration": 4,
    "start_time": "2025-01-19T16:44:10.946Z"
   },
   {
    "duration": 3,
    "start_time": "2025-01-19T16:44:13.055Z"
   },
   {
    "duration": 4,
    "start_time": "2025-01-19T16:44:27.454Z"
   },
   {
    "duration": 281798,
    "start_time": "2025-01-19T16:44:27.959Z"
   },
   {
    "duration": 1621,
    "start_time": "2025-01-19T16:49:13.088Z"
   },
   {
    "duration": 3,
    "start_time": "2025-01-19T16:49:14.711Z"
   },
   {
    "duration": 1026,
    "start_time": "2025-01-19T16:49:14.721Z"
   },
   {
    "duration": 12,
    "start_time": "2025-01-19T16:49:15.750Z"
   },
   {
    "duration": 41,
    "start_time": "2025-01-19T16:49:15.763Z"
   },
   {
    "duration": 41,
    "start_time": "2025-01-19T16:49:15.806Z"
   },
   {
    "duration": 6,
    "start_time": "2025-01-19T16:49:15.849Z"
   },
   {
    "duration": 348,
    "start_time": "2025-01-19T16:49:15.856Z"
   },
   {
    "duration": 35,
    "start_time": "2025-01-19T16:49:16.205Z"
   },
   {
    "duration": 281,
    "start_time": "2025-01-19T16:49:16.242Z"
   },
   {
    "duration": 4,
    "start_time": "2025-01-19T16:49:16.526Z"
   },
   {
    "duration": 510,
    "start_time": "2025-01-19T16:49:16.532Z"
   },
   {
    "duration": 4,
    "start_time": "2025-01-19T16:49:17.044Z"
   },
   {
    "duration": 71391,
    "start_time": "2025-01-19T16:49:17.050Z"
   },
   {
    "duration": 7,
    "start_time": "2025-01-19T16:50:28.443Z"
   },
   {
    "duration": 11,
    "start_time": "2025-01-19T16:50:28.451Z"
   },
   {
    "duration": 30,
    "start_time": "2025-01-19T16:50:28.463Z"
   },
   {
    "duration": 127,
    "start_time": "2025-01-19T16:50:28.495Z"
   },
   {
    "duration": 273,
    "start_time": "2025-01-19T16:50:28.624Z"
   },
   {
    "duration": 3,
    "start_time": "2025-01-19T16:50:28.899Z"
   },
   {
    "duration": 27,
    "start_time": "2025-01-19T16:50:28.903Z"
   },
   {
    "duration": 4,
    "start_time": "2025-01-19T16:50:28.932Z"
   },
   {
    "duration": 13,
    "start_time": "2025-01-19T16:50:28.937Z"
   },
   {
    "duration": 3,
    "start_time": "2025-01-19T16:50:28.951Z"
   },
   {
    "duration": 137,
    "start_time": "2025-01-19T16:50:28.955Z"
   },
   {
    "duration": 5,
    "start_time": "2025-01-19T16:50:29.093Z"
   },
   {
    "duration": 36,
    "start_time": "2025-01-19T16:50:29.099Z"
   },
   {
    "duration": 244,
    "start_time": "2025-01-19T16:50:29.138Z"
   },
   {
    "duration": 9,
    "start_time": "2025-01-19T16:50:29.383Z"
   },
   {
    "duration": 38,
    "start_time": "2025-01-19T16:50:29.394Z"
   },
   {
    "duration": 4432,
    "start_time": "2025-01-19T16:50:29.434Z"
   },
   {
    "duration": 3,
    "start_time": "2025-01-19T16:50:33.868Z"
   },
   {
    "duration": 18,
    "start_time": "2025-01-19T16:50:33.873Z"
   },
   {
    "duration": 6,
    "start_time": "2025-01-19T16:50:33.893Z"
   },
   {
    "duration": 10,
    "start_time": "2025-01-19T16:50:33.900Z"
   },
   {
    "duration": 292582,
    "start_time": "2025-01-19T16:50:33.912Z"
   },
   {
    "duration": 2,
    "start_time": "2025-01-19T16:55:26.496Z"
   },
   {
    "duration": 143,
    "start_time": "2025-01-19T16:55:26.500Z"
   },
   {
    "duration": 0,
    "start_time": "2025-01-19T16:55:26.645Z"
   },
   {
    "duration": 16836,
    "start_time": "2025-01-19T16:56:27.494Z"
   },
   {
    "duration": 113,
    "start_time": "2025-01-19T16:56:44.332Z"
   },
   {
    "duration": 35,
    "start_time": "2025-01-19T16:57:51.110Z"
   },
   {
    "duration": 27,
    "start_time": "2025-01-19T16:58:16.719Z"
   },
   {
    "duration": 26,
    "start_time": "2025-01-19T16:58:33.199Z"
   },
   {
    "duration": 27,
    "start_time": "2025-01-19T16:58:52.071Z"
   },
   {
    "duration": 290850,
    "start_time": "2025-01-19T16:59:58.351Z"
   },
   {
    "duration": 8,
    "start_time": "2025-01-19T17:05:52.740Z"
   },
   {
    "duration": 25,
    "start_time": "2025-01-19T17:05:53.127Z"
   },
   {
    "duration": 235,
    "start_time": "2025-01-19T17:05:53.554Z"
   },
   {
    "duration": 10,
    "start_time": "2025-01-19T17:05:56.271Z"
   },
   {
    "duration": 4,
    "start_time": "2025-01-19T17:05:58.460Z"
   },
   {
    "duration": 4509,
    "start_time": "2025-01-19T17:05:58.680Z"
   },
   {
    "duration": 4,
    "start_time": "2025-01-19T17:06:03.191Z"
   },
   {
    "duration": 4,
    "start_time": "2025-01-19T17:06:03.197Z"
   },
   {
    "duration": 4,
    "start_time": "2025-01-19T17:06:04.807Z"
   },
   {
    "duration": 1523,
    "start_time": "2025-01-19T17:08:00.559Z"
   },
   {
    "duration": 3,
    "start_time": "2025-01-19T17:08:02.084Z"
   },
   {
    "duration": 976,
    "start_time": "2025-01-19T17:08:02.088Z"
   },
   {
    "duration": 11,
    "start_time": "2025-01-19T17:08:03.067Z"
   },
   {
    "duration": 54,
    "start_time": "2025-01-19T17:08:03.080Z"
   },
   {
    "duration": 47,
    "start_time": "2025-01-19T17:08:03.137Z"
   },
   {
    "duration": 6,
    "start_time": "2025-01-19T17:08:03.186Z"
   },
   {
    "duration": 366,
    "start_time": "2025-01-19T17:08:03.194Z"
   },
   {
    "duration": 11,
    "start_time": "2025-01-19T17:08:03.562Z"
   },
   {
    "duration": 257,
    "start_time": "2025-01-19T17:08:03.575Z"
   },
   {
    "duration": 3,
    "start_time": "2025-01-19T17:08:03.833Z"
   },
   {
    "duration": 139,
    "start_time": "2025-01-19T17:08:03.838Z"
   },
   {
    "duration": 4,
    "start_time": "2025-01-19T17:08:03.979Z"
   },
   {
    "duration": 70144,
    "start_time": "2025-01-19T17:08:03.984Z"
   },
   {
    "duration": 8,
    "start_time": "2025-01-19T17:09:14.130Z"
   },
   {
    "duration": 12,
    "start_time": "2025-01-19T17:09:14.139Z"
   },
   {
    "duration": 32,
    "start_time": "2025-01-19T17:09:14.153Z"
   },
   {
    "duration": 136,
    "start_time": "2025-01-19T17:09:14.186Z"
   },
   {
    "duration": 274,
    "start_time": "2025-01-19T17:09:14.323Z"
   },
   {
    "duration": 3,
    "start_time": "2025-01-19T17:09:14.599Z"
   },
   {
    "duration": 30,
    "start_time": "2025-01-19T17:09:14.603Z"
   },
   {
    "duration": 5,
    "start_time": "2025-01-19T17:09:14.635Z"
   },
   {
    "duration": 15,
    "start_time": "2025-01-19T17:09:14.641Z"
   },
   {
    "duration": 3,
    "start_time": "2025-01-19T17:09:14.657Z"
   },
   {
    "duration": 137,
    "start_time": "2025-01-19T17:09:14.661Z"
   },
   {
    "duration": 4,
    "start_time": "2025-01-19T17:09:14.800Z"
   },
   {
    "duration": 21,
    "start_time": "2025-01-19T17:09:14.806Z"
   },
   {
    "duration": 259,
    "start_time": "2025-01-19T17:09:14.831Z"
   },
   {
    "duration": 11,
    "start_time": "2025-01-19T17:09:15.091Z"
   },
   {
    "duration": 47,
    "start_time": "2025-01-19T17:09:15.103Z"
   },
   {
    "duration": 4296,
    "start_time": "2025-01-19T17:09:15.151Z"
   },
   {
    "duration": 4,
    "start_time": "2025-01-19T17:09:19.449Z"
   },
   {
    "duration": 108604,
    "start_time": "2025-01-19T17:09:19.454Z"
   },
   {
    "duration": 3,
    "start_time": "2025-01-19T17:11:08.060Z"
   },
   {
    "duration": 6764,
    "start_time": "2025-01-19T17:11:08.064Z"
   },
   {
    "duration": 119,
    "start_time": "2025-01-19T17:11:14.831Z"
   },
   {
    "duration": 30,
    "start_time": "2025-01-19T17:11:14.952Z"
   },
   {
    "duration": 5,
    "start_time": "2025-01-19T17:12:03.622Z"
   },
   {
    "duration": 15,
    "start_time": "2025-01-19T17:12:04.342Z"
   },
   {
    "duration": 253,
    "start_time": "2025-01-19T17:12:05.274Z"
   },
   {
    "duration": 9,
    "start_time": "2025-01-19T17:12:07.299Z"
   },
   {
    "duration": 4,
    "start_time": "2025-01-19T17:12:08.760Z"
   },
   {
    "duration": 4529,
    "start_time": "2025-01-19T17:12:09.494Z"
   },
   {
    "duration": 5,
    "start_time": "2025-01-19T17:12:14.025Z"
   },
   {
    "duration": 99879,
    "start_time": "2025-01-19T17:12:14.032Z"
   },
   {
    "duration": 5,
    "start_time": "2025-01-19T17:14:35.894Z"
   },
   {
    "duration": 15,
    "start_time": "2025-01-19T17:14:36.315Z"
   },
   {
    "duration": 233,
    "start_time": "2025-01-19T17:14:36.618Z"
   },
   {
    "duration": 10,
    "start_time": "2025-01-19T17:14:36.852Z"
   },
   {
    "duration": 3,
    "start_time": "2025-01-19T17:14:37.125Z"
   },
   {
    "duration": 4069,
    "start_time": "2025-01-19T17:14:37.269Z"
   },
   {
    "duration": 3,
    "start_time": "2025-01-19T17:14:41.340Z"
   },
   {
    "duration": 136391,
    "start_time": "2025-01-19T17:14:41.345Z"
   },
   {
    "duration": 4,
    "start_time": "2025-01-19T17:17:22.575Z"
   },
   {
    "duration": 15,
    "start_time": "2025-01-19T17:17:22.854Z"
   },
   {
    "duration": 243,
    "start_time": "2025-01-19T17:17:23.021Z"
   },
   {
    "duration": 10,
    "start_time": "2025-01-19T17:17:23.266Z"
   },
   {
    "duration": 3,
    "start_time": "2025-01-19T17:17:23.520Z"
   },
   {
    "duration": 4100,
    "start_time": "2025-01-19T17:17:23.676Z"
   },
   {
    "duration": 4,
    "start_time": "2025-01-19T17:17:27.778Z"
   },
   {
    "duration": 126572,
    "start_time": "2025-01-19T17:17:27.783Z"
   },
   {
    "duration": 5,
    "start_time": "2025-01-19T17:20:14.648Z"
   },
   {
    "duration": 15,
    "start_time": "2025-01-19T17:20:14.916Z"
   },
   {
    "duration": 255,
    "start_time": "2025-01-19T17:20:15.070Z"
   },
   {
    "duration": 9,
    "start_time": "2025-01-19T17:20:15.327Z"
   },
   {
    "duration": 3,
    "start_time": "2025-01-19T17:20:15.552Z"
   },
   {
    "duration": 4162,
    "start_time": "2025-01-19T17:20:15.696Z"
   },
   {
    "duration": 4,
    "start_time": "2025-01-19T17:20:19.860Z"
   },
   {
    "duration": 175786,
    "start_time": "2025-01-19T17:20:19.865Z"
   },
   {
    "duration": 4,
    "start_time": "2025-01-19T17:23:53.555Z"
   },
   {
    "duration": 20,
    "start_time": "2025-01-19T17:23:53.913Z"
   },
   {
    "duration": 232,
    "start_time": "2025-01-19T17:23:55.743Z"
   },
   {
    "duration": 10,
    "start_time": "2025-01-19T17:23:56.865Z"
   },
   {
    "duration": 4,
    "start_time": "2025-01-19T17:23:57.243Z"
   },
   {
    "duration": 4405,
    "start_time": "2025-01-19T17:23:57.509Z"
   },
   {
    "duration": 5,
    "start_time": "2025-01-19T17:24:01.916Z"
   },
   {
    "duration": 268976,
    "start_time": "2025-01-19T17:24:01.923Z"
   },
   {
    "duration": 136,
    "start_time": "2025-01-19T17:29:16.010Z"
   },
   {
    "duration": 4,
    "start_time": "2025-01-19T17:29:16.357Z"
   },
   {
    "duration": 27,
    "start_time": "2025-01-19T17:29:16.934Z"
   },
   {
    "duration": 282,
    "start_time": "2025-01-19T17:29:17.372Z"
   },
   {
    "duration": 9,
    "start_time": "2025-01-19T17:29:18.161Z"
   },
   {
    "duration": 5,
    "start_time": "2025-01-19T17:29:19.723Z"
   },
   {
    "duration": 4466,
    "start_time": "2025-01-19T17:29:20.105Z"
   },
   {
    "duration": 3,
    "start_time": "2025-01-19T17:29:24.573Z"
   },
   {
    "duration": 350501,
    "start_time": "2025-01-19T17:29:24.578Z"
   },
   {
    "duration": 3,
    "start_time": "2025-01-19T17:35:31.624Z"
   },
   {
    "duration": 22162,
    "start_time": "2025-01-19T17:35:32.060Z"
   },
   {
    "duration": 116,
    "start_time": "2025-01-19T17:35:54.227Z"
   },
   {
    "duration": 25,
    "start_time": "2025-01-19T17:35:54.345Z"
   },
   {
    "duration": 4,
    "start_time": "2025-01-19T17:36:13.022Z"
   },
   {
    "duration": 18,
    "start_time": "2025-01-19T17:36:13.537Z"
   },
   {
    "duration": 254,
    "start_time": "2025-01-19T17:36:14.315Z"
   },
   {
    "duration": 9,
    "start_time": "2025-01-19T17:36:14.684Z"
   },
   {
    "duration": 4,
    "start_time": "2025-01-19T17:36:15.441Z"
   },
   {
    "duration": 4259,
    "start_time": "2025-01-19T17:36:15.840Z"
   },
   {
    "duration": 4,
    "start_time": "2025-01-19T17:36:20.101Z"
   },
   {
    "duration": 146549,
    "start_time": "2025-01-19T17:36:20.106Z"
   },
   {
    "duration": 5,
    "start_time": "2025-01-19T17:39:28.367Z"
   },
   {
    "duration": 20,
    "start_time": "2025-01-19T17:39:28.646Z"
   },
   {
    "duration": 202,
    "start_time": "2025-01-19T17:39:28.760Z"
   },
   {
    "duration": 10,
    "start_time": "2025-01-19T17:39:28.964Z"
   },
   {
    "duration": 4,
    "start_time": "2025-01-19T17:39:29.617Z"
   },
   {
    "duration": 4370,
    "start_time": "2025-01-19T17:39:30.035Z"
   },
   {
    "duration": 4,
    "start_time": "2025-01-19T17:39:34.407Z"
   },
   {
    "duration": 168360,
    "start_time": "2025-01-19T17:39:34.412Z"
   },
   {
    "duration": 5,
    "start_time": "2025-01-19T17:42:49.286Z"
   },
   {
    "duration": 20,
    "start_time": "2025-01-19T17:42:49.446Z"
   },
   {
    "duration": 256,
    "start_time": "2025-01-19T17:42:49.600Z"
   },
   {
    "duration": 9,
    "start_time": "2025-01-19T17:42:49.858Z"
   },
   {
    "duration": 4,
    "start_time": "2025-01-19T17:42:50.512Z"
   },
   {
    "duration": 4303,
    "start_time": "2025-01-19T17:42:50.842Z"
   },
   {
    "duration": 4,
    "start_time": "2025-01-19T17:42:55.147Z"
   },
   {
    "duration": 266506,
    "start_time": "2025-01-19T17:42:55.152Z"
   },
   {
    "duration": 5,
    "start_time": "2025-01-19T17:47:55.710Z"
   },
   {
    "duration": 19,
    "start_time": "2025-01-19T17:47:55.849Z"
   },
   {
    "duration": 213,
    "start_time": "2025-01-19T17:47:55.957Z"
   },
   {
    "duration": 10,
    "start_time": "2025-01-19T17:47:56.172Z"
   },
   {
    "duration": 4,
    "start_time": "2025-01-19T17:47:56.349Z"
   },
   {
    "duration": 4358,
    "start_time": "2025-01-19T17:47:56.481Z"
   },
   {
    "duration": 4,
    "start_time": "2025-01-19T17:48:00.841Z"
   },
   {
    "duration": 303571,
    "start_time": "2025-01-19T17:48:00.846Z"
   },
   {
    "duration": 5,
    "start_time": "2025-01-19T17:53:33.225Z"
   },
   {
    "duration": 20,
    "start_time": "2025-01-19T17:53:33.359Z"
   },
   {
    "duration": 252,
    "start_time": "2025-01-19T17:53:33.527Z"
   },
   {
    "duration": 10,
    "start_time": "2025-01-19T17:53:33.781Z"
   },
   {
    "duration": 4,
    "start_time": "2025-01-19T17:53:34.543Z"
   },
   {
    "duration": 4966,
    "start_time": "2025-01-19T17:53:34.951Z"
   },
   {
    "duration": 3,
    "start_time": "2025-01-19T17:53:39.922Z"
   },
   {
    "duration": 350628,
    "start_time": "2025-01-19T17:53:39.927Z"
   },
   {
    "duration": 3,
    "start_time": "2025-01-19T18:00:14.531Z"
   },
   {
    "duration": 19742,
    "start_time": "2025-01-19T18:00:14.881Z"
   },
   {
    "duration": 113,
    "start_time": "2025-01-19T18:00:34.628Z"
   },
   {
    "duration": 26,
    "start_time": "2025-01-19T18:00:34.742Z"
   },
   {
    "duration": 5,
    "start_time": "2025-01-19T18:01:56.039Z"
   },
   {
    "duration": 2,
    "start_time": "2025-01-19T18:03:24.325Z"
   },
   {
    "duration": 4,
    "start_time": "2025-01-19T18:03:24.825Z"
   },
   {
    "duration": 3,
    "start_time": "2025-01-19T18:04:12.732Z"
   },
   {
    "duration": 3,
    "start_time": "2025-01-19T18:04:12.948Z"
   },
   {
    "duration": 21975,
    "start_time": "2025-01-19T18:04:13.250Z"
   },
   {
    "duration": 115,
    "start_time": "2025-01-19T18:04:35.228Z"
   },
   {
    "duration": 2,
    "start_time": "2025-01-19T18:05:29.877Z"
   },
   {
    "duration": 299,
    "start_time": "2025-01-19T18:05:31.478Z"
   },
   {
    "duration": 1810,
    "start_time": "2025-01-19T18:28:00.252Z"
   },
   {
    "duration": 62,
    "start_time": "2025-01-19T18:28:02.064Z"
   },
   {
    "duration": 1704,
    "start_time": "2025-01-19T18:28:02.129Z"
   },
   {
    "duration": 14,
    "start_time": "2025-01-19T18:28:03.835Z"
   },
   {
    "duration": 6,
    "start_time": "2025-01-19T18:28:03.852Z"
   },
   {
    "duration": 95,
    "start_time": "2025-01-19T18:28:03.860Z"
   },
   {
    "duration": 5,
    "start_time": "2025-01-19T18:28:03.958Z"
   },
   {
    "duration": 330,
    "start_time": "2025-01-19T18:28:03.965Z"
   },
   {
    "duration": 24,
    "start_time": "2025-01-19T18:28:04.297Z"
   },
   {
    "duration": 236,
    "start_time": "2025-01-19T18:28:04.325Z"
   },
   {
    "duration": 147,
    "start_time": "2025-01-19T18:28:04.562Z"
   },
   {
    "duration": 5,
    "start_time": "2025-01-19T18:28:04.711Z"
   },
   {
    "duration": 74545,
    "start_time": "2025-01-19T18:28:04.718Z"
   },
   {
    "duration": 8,
    "start_time": "2025-01-19T18:29:19.265Z"
   },
   {
    "duration": 12,
    "start_time": "2025-01-19T18:29:19.274Z"
   },
   {
    "duration": 173,
    "start_time": "2025-01-19T18:29:19.289Z"
   },
   {
    "duration": 0,
    "start_time": "2025-01-19T18:29:19.464Z"
   },
   {
    "duration": 0,
    "start_time": "2025-01-19T18:29:19.466Z"
   },
   {
    "duration": 0,
    "start_time": "2025-01-19T18:29:19.467Z"
   },
   {
    "duration": 0,
    "start_time": "2025-01-19T18:29:19.468Z"
   },
   {
    "duration": 0,
    "start_time": "2025-01-19T18:29:19.469Z"
   },
   {
    "duration": 0,
    "start_time": "2025-01-19T18:29:19.470Z"
   },
   {
    "duration": 0,
    "start_time": "2025-01-19T18:29:19.471Z"
   },
   {
    "duration": 0,
    "start_time": "2025-01-19T18:29:19.472Z"
   },
   {
    "duration": 0,
    "start_time": "2025-01-19T18:29:19.474Z"
   },
   {
    "duration": 0,
    "start_time": "2025-01-19T18:29:19.475Z"
   },
   {
    "duration": 0,
    "start_time": "2025-01-19T18:29:19.476Z"
   },
   {
    "duration": 0,
    "start_time": "2025-01-19T18:29:19.477Z"
   },
   {
    "duration": 0,
    "start_time": "2025-01-19T18:29:19.478Z"
   },
   {
    "duration": 0,
    "start_time": "2025-01-19T18:29:19.479Z"
   },
   {
    "duration": 0,
    "start_time": "2025-01-19T18:29:19.480Z"
   },
   {
    "duration": 0,
    "start_time": "2025-01-19T18:29:19.481Z"
   },
   {
    "duration": 0,
    "start_time": "2025-01-19T18:29:19.482Z"
   },
   {
    "duration": 0,
    "start_time": "2025-01-19T18:29:19.483Z"
   },
   {
    "duration": 0,
    "start_time": "2025-01-19T18:29:19.484Z"
   },
   {
    "duration": 34,
    "start_time": "2025-01-19T18:29:23.859Z"
   },
   {
    "duration": 108,
    "start_time": "2025-01-19T18:29:28.042Z"
   },
   {
    "duration": 404,
    "start_time": "2025-01-19T18:31:37.144Z"
   },
   {
    "duration": 347,
    "start_time": "2025-01-19T18:32:00.836Z"
   },
   {
    "duration": 440,
    "start_time": "2025-01-19T18:32:07.924Z"
   },
   {
    "duration": 4,
    "start_time": "2025-01-19T18:32:16.154Z"
   },
   {
    "duration": 36,
    "start_time": "2025-01-19T18:32:17.455Z"
   },
   {
    "duration": 4,
    "start_time": "2025-01-19T18:32:18.102Z"
   },
   {
    "duration": 13,
    "start_time": "2025-01-19T18:32:31.110Z"
   },
   {
    "duration": 143,
    "start_time": "2025-01-19T18:32:32.340Z"
   },
   {
    "duration": 8,
    "start_time": "2025-01-19T18:32:34.929Z"
   },
   {
    "duration": 33,
    "start_time": "2025-01-19T18:32:36.724Z"
   },
   {
    "duration": 232,
    "start_time": "2025-01-19T18:32:37.447Z"
   },
   {
    "duration": 6,
    "start_time": "2025-01-19T18:36:48.375Z"
   },
   {
    "duration": 315,
    "start_time": "2025-01-19T18:36:49.459Z"
   },
   {
    "duration": 7,
    "start_time": "2025-01-19T18:37:40.134Z"
   },
   {
    "duration": 256,
    "start_time": "2025-01-19T18:37:40.324Z"
   },
   {
    "duration": 241,
    "start_time": "2025-01-19T18:38:07.628Z"
   },
   {
    "duration": 7,
    "start_time": "2025-01-19T18:38:36.211Z"
   },
   {
    "duration": 285,
    "start_time": "2025-01-19T18:38:37.456Z"
   },
   {
    "duration": 236,
    "start_time": "2025-01-19T18:38:50.346Z"
   },
   {
    "duration": 10,
    "start_time": "2025-01-19T18:39:12.780Z"
   },
   {
    "duration": 4326,
    "start_time": "2025-01-19T18:39:15.979Z"
   },
   {
    "duration": 4,
    "start_time": "2025-01-19T18:39:20.307Z"
   },
   {
    "duration": 368107,
    "start_time": "2025-01-19T18:39:21.518Z"
   },
   {
    "duration": 4,
    "start_time": "2025-01-19T18:45:29.627Z"
   },
   {
    "duration": 25,
    "start_time": "2025-01-19T18:45:29.632Z"
   },
   {
    "duration": 29765,
    "start_time": "2025-01-19T18:45:29.659Z"
   },
   {
    "duration": 30,
    "start_time": "2025-01-19T18:45:59.426Z"
   },
   {
    "duration": 389,
    "start_time": "2025-01-19T18:45:59.457Z"
   },
   {
    "duration": 10,
    "start_time": "2025-01-19T18:55:58.438Z"
   },
   {
    "duration": 13,
    "start_time": "2025-01-19T18:56:02.449Z"
   },
   {
    "duration": 9,
    "start_time": "2025-01-19T18:56:10.685Z"
   },
   {
    "duration": 5,
    "start_time": "2025-01-19T18:56:17.864Z"
   },
   {
    "duration": 4,
    "start_time": "2025-01-19T18:56:27.650Z"
   },
   {
    "duration": 10,
    "start_time": "2025-01-19T18:56:34.439Z"
   },
   {
    "duration": 7,
    "start_time": "2025-01-19T18:56:48.353Z"
   },
   {
    "duration": 1983,
    "start_time": "2025-01-20T15:52:41.085Z"
   },
   {
    "duration": 4,
    "start_time": "2025-01-20T15:52:43.073Z"
   },
   {
    "duration": 3952,
    "start_time": "2025-01-20T15:52:43.080Z"
   },
   {
    "duration": 12,
    "start_time": "2025-01-20T15:52:47.034Z"
   },
   {
    "duration": 12,
    "start_time": "2025-01-20T15:52:47.048Z"
   },
   {
    "duration": 35,
    "start_time": "2025-01-20T15:52:47.062Z"
   },
   {
    "duration": 8,
    "start_time": "2025-01-20T15:52:47.099Z"
   },
   {
    "duration": 411,
    "start_time": "2025-01-20T15:52:47.110Z"
   },
   {
    "duration": 11,
    "start_time": "2025-01-20T15:52:47.523Z"
   },
   {
    "duration": 255,
    "start_time": "2025-01-20T15:52:47.536Z"
   },
   {
    "duration": 151,
    "start_time": "2025-01-20T15:52:47.792Z"
   },
   {
    "duration": 5,
    "start_time": "2025-01-20T15:52:47.945Z"
   },
   {
    "duration": 77759,
    "start_time": "2025-01-20T15:52:47.953Z"
   },
   {
    "duration": 7,
    "start_time": "2025-01-20T15:54:05.716Z"
   },
   {
    "duration": 49,
    "start_time": "2025-01-20T15:54:05.725Z"
   },
   {
    "duration": 122,
    "start_time": "2025-01-20T15:54:05.776Z"
   },
   {
    "duration": 434,
    "start_time": "2025-01-20T15:54:05.899Z"
   },
   {
    "duration": 5,
    "start_time": "2025-01-20T15:54:06.335Z"
   },
   {
    "duration": 31,
    "start_time": "2025-01-20T15:54:06.342Z"
   },
   {
    "duration": 5,
    "start_time": "2025-01-20T15:54:06.375Z"
   },
   {
    "duration": 25,
    "start_time": "2025-01-20T15:54:06.382Z"
   },
   {
    "duration": 156,
    "start_time": "2025-01-20T15:54:06.409Z"
   },
   {
    "duration": 6,
    "start_time": "2025-01-20T15:54:06.567Z"
   },
   {
    "duration": 53,
    "start_time": "2025-01-20T15:54:06.575Z"
   },
   {
    "duration": 278,
    "start_time": "2025-01-20T15:54:06.630Z"
   },
   {
    "duration": 12,
    "start_time": "2025-01-20T15:54:06.909Z"
   },
   {
    "duration": 5026,
    "start_time": "2025-01-20T15:54:06.923Z"
   },
   {
    "duration": 9,
    "start_time": "2025-01-20T15:54:11.951Z"
   },
   {
    "duration": 361831,
    "start_time": "2025-01-20T15:54:11.962Z"
   },
   {
    "duration": 3,
    "start_time": "2025-01-20T16:00:13.795Z"
   },
   {
    "duration": 12,
    "start_time": "2025-01-20T16:00:13.800Z"
   },
   {
    "duration": 23855,
    "start_time": "2025-01-20T16:00:13.814Z"
   },
   {
    "duration": 115,
    "start_time": "2025-01-20T16:00:37.671Z"
   },
   {
    "duration": 362,
    "start_time": "2025-01-20T16:00:37.788Z"
   },
   {
    "duration": 87,
    "start_time": "2025-01-20T16:28:17.189Z"
   },
   {
    "duration": 1371,
    "start_time": "2025-01-20T16:33:31.559Z"
   },
   {
    "duration": 1883,
    "start_time": "2025-01-20T16:33:41.655Z"
   },
   {
    "duration": 3,
    "start_time": "2025-01-20T16:33:43.540Z"
   },
   {
    "duration": 994,
    "start_time": "2025-01-20T16:33:43.544Z"
   },
   {
    "duration": 21,
    "start_time": "2025-01-20T16:33:44.540Z"
   },
   {
    "duration": 11,
    "start_time": "2025-01-20T16:33:44.564Z"
   },
   {
    "duration": 45,
    "start_time": "2025-01-20T16:33:44.577Z"
   },
   {
    "duration": 280,
    "start_time": "2025-01-20T16:33:44.624Z"
   },
   {
    "duration": 12,
    "start_time": "2025-01-20T16:33:44.907Z"
   },
   {
    "duration": 309,
    "start_time": "2025-01-20T16:33:44.921Z"
   },
   {
    "duration": 12,
    "start_time": "2025-01-20T16:33:45.233Z"
   },
   {
    "duration": 257,
    "start_time": "2025-01-20T16:33:45.260Z"
   },
   {
    "duration": 5,
    "start_time": "2025-01-20T16:33:45.519Z"
   },
   {
    "duration": 77265,
    "start_time": "2025-01-20T16:33:45.526Z"
   },
   {
    "duration": 9,
    "start_time": "2025-01-20T16:35:02.794Z"
   },
   {
    "duration": 51,
    "start_time": "2025-01-20T16:35:02.805Z"
   },
   {
    "duration": 140,
    "start_time": "2025-01-20T16:35:02.860Z"
   },
   {
    "duration": 154,
    "start_time": "2025-01-20T16:35:03.002Z"
   },
   {
    "duration": 0,
    "start_time": "2025-01-20T16:35:03.160Z"
   },
   {
    "duration": 0,
    "start_time": "2025-01-20T16:35:03.162Z"
   },
   {
    "duration": 0,
    "start_time": "2025-01-20T16:35:03.164Z"
   },
   {
    "duration": 0,
    "start_time": "2025-01-20T16:35:03.165Z"
   },
   {
    "duration": 0,
    "start_time": "2025-01-20T16:35:03.167Z"
   },
   {
    "duration": 0,
    "start_time": "2025-01-20T16:35:03.168Z"
   },
   {
    "duration": 0,
    "start_time": "2025-01-20T16:35:03.170Z"
   },
   {
    "duration": 0,
    "start_time": "2025-01-20T16:35:03.173Z"
   },
   {
    "duration": 0,
    "start_time": "2025-01-20T16:35:03.175Z"
   },
   {
    "duration": 0,
    "start_time": "2025-01-20T16:35:03.177Z"
   },
   {
    "duration": 0,
    "start_time": "2025-01-20T16:35:03.178Z"
   },
   {
    "duration": 0,
    "start_time": "2025-01-20T16:35:03.179Z"
   },
   {
    "duration": 0,
    "start_time": "2025-01-20T16:35:03.182Z"
   },
   {
    "duration": 1,
    "start_time": "2025-01-20T16:35:03.182Z"
   },
   {
    "duration": 0,
    "start_time": "2025-01-20T16:35:03.184Z"
   },
   {
    "duration": 0,
    "start_time": "2025-01-20T16:35:03.186Z"
   },
   {
    "duration": 0,
    "start_time": "2025-01-20T16:35:03.187Z"
   },
   {
    "duration": 0,
    "start_time": "2025-01-20T16:35:03.188Z"
   },
   {
    "duration": 15,
    "start_time": "2025-01-20T16:35:47.770Z"
   },
   {
    "duration": 17,
    "start_time": "2025-01-20T16:35:54.907Z"
   },
   {
    "duration": 1996,
    "start_time": "2025-01-20T16:36:06.576Z"
   },
   {
    "duration": 4,
    "start_time": "2025-01-20T16:36:08.574Z"
   },
   {
    "duration": 1031,
    "start_time": "2025-01-20T16:36:08.580Z"
   },
   {
    "duration": 15,
    "start_time": "2025-01-20T16:36:09.614Z"
   },
   {
    "duration": 11,
    "start_time": "2025-01-20T16:36:09.632Z"
   },
   {
    "duration": 37,
    "start_time": "2025-01-20T16:36:09.659Z"
   },
   {
    "duration": 271,
    "start_time": "2025-01-20T16:36:09.698Z"
   },
   {
    "duration": 8,
    "start_time": "2025-01-20T16:36:09.971Z"
   },
   {
    "duration": 359,
    "start_time": "2025-01-20T16:36:09.981Z"
   },
   {
    "duration": 20,
    "start_time": "2025-01-20T16:36:10.344Z"
   },
   {
    "duration": 270,
    "start_time": "2025-01-20T16:36:10.366Z"
   },
   {
    "duration": 5,
    "start_time": "2025-01-20T16:36:10.639Z"
   },
   {
    "duration": 78342,
    "start_time": "2025-01-20T16:36:10.647Z"
   },
   {
    "duration": 12,
    "start_time": "2025-01-20T16:37:28.991Z"
   },
   {
    "duration": 40,
    "start_time": "2025-01-20T16:37:29.005Z"
   },
   {
    "duration": 135,
    "start_time": "2025-01-20T16:37:29.047Z"
   },
   {
    "duration": 13,
    "start_time": "2025-01-20T16:37:29.184Z"
   },
   {
    "duration": 456,
    "start_time": "2025-01-20T16:37:29.199Z"
   },
   {
    "duration": 5,
    "start_time": "2025-01-20T16:37:29.660Z"
   },
   {
    "duration": 21,
    "start_time": "2025-01-20T16:37:29.667Z"
   },
   {
    "duration": 4,
    "start_time": "2025-01-20T16:37:29.690Z"
   },
   {
    "duration": 20,
    "start_time": "2025-01-20T16:37:29.697Z"
   },
   {
    "duration": 189,
    "start_time": "2025-01-20T16:37:29.719Z"
   },
   {
    "duration": 10,
    "start_time": "2025-01-20T16:37:29.911Z"
   },
   {
    "duration": 40,
    "start_time": "2025-01-20T16:37:29.924Z"
   },
   {
    "duration": 269,
    "start_time": "2025-01-20T16:37:29.966Z"
   },
   {
    "duration": 23,
    "start_time": "2025-01-20T16:37:30.237Z"
   },
   {
    "duration": 6341,
    "start_time": "2025-01-20T16:37:30.263Z"
   },
   {
    "duration": 57,
    "start_time": "2025-01-20T16:37:36.606Z"
   },
   {
    "duration": 341515,
    "start_time": "2025-01-20T16:37:36.665Z"
   },
   {
    "duration": 3,
    "start_time": "2025-01-20T16:43:18.182Z"
   },
   {
    "duration": 19,
    "start_time": "2025-01-20T16:43:18.186Z"
   },
   {
    "duration": 20560,
    "start_time": "2025-01-20T16:43:18.206Z"
   },
   {
    "duration": 117,
    "start_time": "2025-01-20T16:43:38.768Z"
   },
   {
    "duration": 349,
    "start_time": "2025-01-20T16:43:38.887Z"
   },
   {
    "duration": 1865,
    "start_time": "2025-01-20T17:13:22.772Z"
   },
   {
    "duration": 3,
    "start_time": "2025-01-20T17:13:24.639Z"
   },
   {
    "duration": 1073,
    "start_time": "2025-01-20T17:13:24.643Z"
   },
   {
    "duration": 11,
    "start_time": "2025-01-20T17:13:25.718Z"
   },
   {
    "duration": 15,
    "start_time": "2025-01-20T17:13:25.730Z"
   },
   {
    "duration": 48,
    "start_time": "2025-01-20T17:13:25.747Z"
   },
   {
    "duration": 279,
    "start_time": "2025-01-20T17:13:25.797Z"
   },
   {
    "duration": 7,
    "start_time": "2025-01-20T17:13:26.078Z"
   },
   {
    "duration": 351,
    "start_time": "2025-01-20T17:13:26.086Z"
   },
   {
    "duration": 36,
    "start_time": "2025-01-20T17:13:26.440Z"
   },
   {
    "duration": 154,
    "start_time": "2025-01-20T17:13:26.477Z"
   },
   {
    "duration": 4,
    "start_time": "2025-01-20T17:13:26.632Z"
   },
   {
    "duration": 1979,
    "start_time": "2025-01-20T17:13:49.765Z"
   },
   {
    "duration": 3,
    "start_time": "2025-01-20T17:13:51.747Z"
   },
   {
    "duration": 1068,
    "start_time": "2025-01-20T17:13:51.753Z"
   },
   {
    "duration": 11,
    "start_time": "2025-01-20T17:13:52.823Z"
   },
   {
    "duration": 10,
    "start_time": "2025-01-20T17:13:52.836Z"
   },
   {
    "duration": 61,
    "start_time": "2025-01-20T17:13:52.848Z"
   },
   {
    "duration": 269,
    "start_time": "2025-01-20T17:13:52.911Z"
   },
   {
    "duration": 8,
    "start_time": "2025-01-20T17:13:53.182Z"
   },
   {
    "duration": 341,
    "start_time": "2025-01-20T17:13:53.191Z"
   },
   {
    "duration": 13,
    "start_time": "2025-01-20T17:13:53.533Z"
   },
   {
    "duration": 248,
    "start_time": "2025-01-20T17:13:53.560Z"
   },
   {
    "duration": 4,
    "start_time": "2025-01-20T17:13:53.810Z"
   },
   {
    "duration": 84351,
    "start_time": "2025-01-20T17:13:53.816Z"
   },
   {
    "duration": 8,
    "start_time": "2025-01-20T17:15:18.174Z"
   },
   {
    "duration": 49,
    "start_time": "2025-01-20T17:15:18.184Z"
   },
   {
    "duration": 153,
    "start_time": "2025-01-20T17:15:18.235Z"
   },
   {
    "duration": 14,
    "start_time": "2025-01-20T17:15:18.390Z"
   },
   {
    "duration": 482,
    "start_time": "2025-01-20T17:15:18.406Z"
   },
   {
    "duration": 4,
    "start_time": "2025-01-20T17:15:18.890Z"
   },
   {
    "duration": 33,
    "start_time": "2025-01-20T17:15:18.896Z"
   },
   {
    "duration": 4,
    "start_time": "2025-01-20T17:15:18.931Z"
   },
   {
    "duration": 39,
    "start_time": "2025-01-20T17:15:18.937Z"
   },
   {
    "duration": 106,
    "start_time": "2025-01-20T17:15:18.978Z"
   },
   {
    "duration": 7,
    "start_time": "2025-01-20T17:15:19.086Z"
   },
   {
    "duration": 111,
    "start_time": "2025-01-20T17:15:19.095Z"
   },
   {
    "duration": 309,
    "start_time": "2025-01-20T17:15:19.208Z"
   },
   {
    "duration": 11,
    "start_time": "2025-01-20T17:15:19.519Z"
   },
   {
    "duration": 6180,
    "start_time": "2025-01-20T17:15:19.532Z"
   },
   {
    "duration": 5,
    "start_time": "2025-01-20T17:15:25.714Z"
   },
   {
    "duration": 718574,
    "start_time": "2025-01-20T17:15:25.721Z"
   },
   {
    "duration": 4,
    "start_time": "2025-01-20T17:27:24.297Z"
   },
   {
    "duration": 4,
    "start_time": "2025-01-20T17:27:24.303Z"
   },
   {
    "duration": 41762,
    "start_time": "2025-01-20T17:27:24.309Z"
   },
   {
    "duration": 20,
    "start_time": "2025-01-20T17:28:06.073Z"
   },
   {
    "duration": 354,
    "start_time": "2025-01-20T17:28:06.095Z"
   },
   {
    "duration": 5,
    "start_time": "2025-01-20T17:28:38.231Z"
   },
   {
    "duration": 70,
    "start_time": "2025-01-20T17:28:38.384Z"
   },
   {
    "duration": 305,
    "start_time": "2025-01-20T17:28:38.544Z"
   },
   {
    "duration": 21,
    "start_time": "2025-01-20T17:28:38.859Z"
   },
   {
    "duration": 6487,
    "start_time": "2025-01-20T17:28:40.508Z"
   },
   {
    "duration": 3,
    "start_time": "2025-01-20T17:28:46.998Z"
   },
   {
    "duration": 841565,
    "start_time": "2025-01-20T17:28:47.003Z"
   },
   {
    "duration": 6,
    "start_time": "2025-01-20T17:42:48.574Z"
   },
   {
    "duration": 4,
    "start_time": "2025-01-20T17:42:48.582Z"
   },
   {
    "duration": 41506,
    "start_time": "2025-01-20T17:42:48.588Z"
   },
   {
    "duration": 17,
    "start_time": "2025-01-20T17:43:30.161Z"
   },
   {
    "duration": 367,
    "start_time": "2025-01-20T17:43:30.181Z"
   },
   {
    "duration": 8,
    "start_time": "2025-01-20T17:44:05.296Z"
   },
   {
    "duration": 123,
    "start_time": "2025-01-20T17:44:05.455Z"
   },
   {
    "duration": 351,
    "start_time": "2025-01-20T17:44:05.634Z"
   },
   {
    "duration": 17,
    "start_time": "2025-01-20T17:44:05.988Z"
   },
   {
    "duration": 7491,
    "start_time": "2025-01-20T17:44:07.427Z"
   },
   {
    "duration": 5,
    "start_time": "2025-01-20T17:44:14.920Z"
   },
   {
    "duration": 1116954,
    "start_time": "2025-01-20T17:44:14.927Z"
   },
   {
    "duration": 3,
    "start_time": "2025-01-20T18:03:15.097Z"
   },
   {
    "duration": 3,
    "start_time": "2025-01-20T18:03:15.507Z"
   },
   {
    "duration": 42063,
    "start_time": "2025-01-20T18:03:16.220Z"
   },
   {
    "duration": 102,
    "start_time": "2025-01-20T18:03:58.361Z"
   },
   {
    "duration": 297,
    "start_time": "2025-01-20T18:03:58.465Z"
   },
   {
    "duration": 1831,
    "start_time": "2025-01-21T16:02:57.366Z"
   },
   {
    "duration": 3,
    "start_time": "2025-01-21T16:02:59.199Z"
   },
   {
    "duration": 1729,
    "start_time": "2025-01-21T16:02:59.203Z"
   },
   {
    "duration": 11,
    "start_time": "2025-01-21T16:03:00.934Z"
   },
   {
    "duration": 37,
    "start_time": "2025-01-21T16:03:00.947Z"
   },
   {
    "duration": 63,
    "start_time": "2025-01-21T16:03:00.986Z"
   },
   {
    "duration": 232,
    "start_time": "2025-01-21T16:03:01.051Z"
   },
   {
    "duration": 8,
    "start_time": "2025-01-21T16:03:01.284Z"
   },
   {
    "duration": 364,
    "start_time": "2025-01-21T16:03:01.294Z"
   },
   {
    "duration": 11,
    "start_time": "2025-01-21T16:03:01.670Z"
   },
   {
    "duration": 248,
    "start_time": "2025-01-21T16:03:01.682Z"
   },
   {
    "duration": 4,
    "start_time": "2025-01-21T16:03:01.931Z"
   },
   {
    "duration": 73997,
    "start_time": "2025-01-21T16:03:01.936Z"
   },
   {
    "duration": 7,
    "start_time": "2025-01-21T16:04:15.935Z"
   },
   {
    "duration": 137,
    "start_time": "2025-01-21T16:04:15.944Z"
   },
   {
    "duration": 103,
    "start_time": "2025-01-21T16:04:16.082Z"
   },
   {
    "duration": 12,
    "start_time": "2025-01-21T16:04:16.187Z"
   },
   {
    "duration": 436,
    "start_time": "2025-01-21T16:04:16.200Z"
   },
   {
    "duration": 3,
    "start_time": "2025-01-21T16:04:16.638Z"
   },
   {
    "duration": 143,
    "start_time": "2025-01-21T16:04:16.643Z"
   },
   {
    "duration": 4,
    "start_time": "2025-01-21T16:04:16.788Z"
   },
   {
    "duration": 27,
    "start_time": "2025-01-21T16:04:16.794Z"
   },
   {
    "duration": 80,
    "start_time": "2025-01-21T16:04:16.823Z"
   },
   {
    "duration": 5,
    "start_time": "2025-01-21T16:04:16.904Z"
   },
   {
    "duration": 78,
    "start_time": "2025-01-21T16:04:16.911Z"
   },
   {
    "duration": 238,
    "start_time": "2025-01-21T16:04:16.991Z"
   },
   {
    "duration": 10,
    "start_time": "2025-01-21T16:04:17.231Z"
   },
   {
    "duration": 5680,
    "start_time": "2025-01-21T16:04:17.273Z"
   },
   {
    "duration": 4,
    "start_time": "2025-01-21T16:04:22.955Z"
   },
   {
    "duration": 964957,
    "start_time": "2025-01-21T16:04:22.961Z"
   },
   {
    "duration": 3,
    "start_time": "2025-01-21T16:20:27.919Z"
   },
   {
    "duration": 5,
    "start_time": "2025-01-21T16:20:27.923Z"
   },
   {
    "duration": 36141,
    "start_time": "2025-01-21T16:20:27.929Z"
   },
   {
    "duration": 13,
    "start_time": "2025-01-21T16:21:04.072Z"
   },
   {
    "duration": 365,
    "start_time": "2025-01-21T16:21:04.087Z"
   },
   {
    "duration": 1973,
    "start_time": "2025-01-22T16:20:51.163Z"
   },
   {
    "duration": 2,
    "start_time": "2025-01-22T16:20:53.138Z"
   },
   {
    "duration": 3870,
    "start_time": "2025-01-22T16:20:54.343Z"
   },
   {
    "duration": 10,
    "start_time": "2025-01-22T16:20:58.214Z"
   },
   {
    "duration": 35,
    "start_time": "2025-01-22T16:20:58.225Z"
   },
   {
    "duration": 36,
    "start_time": "2025-01-22T16:20:58.262Z"
   },
   {
    "duration": 259,
    "start_time": "2025-01-22T16:20:58.299Z"
   },
   {
    "duration": 7,
    "start_time": "2025-01-22T16:20:59.424Z"
   },
   {
    "duration": 332,
    "start_time": "2025-01-22T16:21:00.646Z"
   },
   {
    "duration": 12,
    "start_time": "2025-01-22T16:21:04.558Z"
   },
   {
    "duration": 3,
    "start_time": "2025-01-22T16:21:05.532Z"
   },
   {
    "duration": 144,
    "start_time": "2025-01-22T16:21:08.054Z"
   },
   {
    "duration": 11,
    "start_time": "2025-01-22T16:21:11.044Z"
   },
   {
    "duration": 563,
    "start_time": "2025-01-22T16:21:13.500Z"
   },
   {
    "duration": 425,
    "start_time": "2025-01-22T16:23:31.403Z"
   },
   {
    "duration": 4,
    "start_time": "2025-01-22T16:23:35.392Z"
   },
   {
    "duration": 484,
    "start_time": "2025-01-22T16:23:35.909Z"
   },
   {
    "duration": 11,
    "start_time": "2025-01-22T16:25:59.745Z"
   },
   {
    "duration": 453,
    "start_time": "2025-01-22T16:26:00.713Z"
   },
   {
    "duration": 4,
    "start_time": "2025-01-22T16:26:53.577Z"
   },
   {
    "duration": 3,
    "start_time": "2025-01-22T16:26:57.971Z"
   },
   {
    "duration": 4,
    "start_time": "2025-01-22T16:27:01.062Z"
   },
   {
    "duration": 431698,
    "start_time": "2025-01-22T16:27:01.415Z"
   },
   {
    "duration": 6,
    "start_time": "2025-01-22T16:34:13.115Z"
   },
   {
    "duration": 13,
    "start_time": "2025-01-22T16:34:26.193Z"
   },
   {
    "duration": 1512,
    "start_time": "2025-01-22T16:34:53.814Z"
   },
   {
    "duration": 5807,
    "start_time": "2025-01-22T16:35:57.418Z"
   },
   {
    "duration": 895526,
    "start_time": "2025-01-22T16:36:17.777Z"
   },
   {
    "duration": 1802,
    "start_time": "2025-01-22T17:07:27.626Z"
   },
   {
    "duration": 2,
    "start_time": "2025-01-22T17:07:29.430Z"
   },
   {
    "duration": 1960,
    "start_time": "2025-01-22T17:07:29.434Z"
   },
   {
    "duration": 10,
    "start_time": "2025-01-22T17:07:31.396Z"
   },
   {
    "duration": 76,
    "start_time": "2025-01-22T17:07:31.408Z"
   },
   {
    "duration": 43,
    "start_time": "2025-01-22T17:07:31.485Z"
   },
   {
    "duration": 301,
    "start_time": "2025-01-22T17:07:31.530Z"
   },
   {
    "duration": 6,
    "start_time": "2025-01-22T17:07:31.833Z"
   },
   {
    "duration": 276,
    "start_time": "2025-01-22T17:07:31.841Z"
   },
   {
    "duration": 29,
    "start_time": "2025-01-22T17:07:32.120Z"
   },
   {
    "duration": 162,
    "start_time": "2025-01-22T17:07:32.162Z"
   },
   {
    "duration": 2886,
    "start_time": "2025-01-22T17:07:32.326Z"
   },
   {
    "duration": 4,
    "start_time": "2025-01-22T17:07:35.214Z"
   },
   {
    "duration": 79,
    "start_time": "2025-01-22T17:07:35.220Z"
   },
   {
    "duration": 932501,
    "start_time": "2025-01-22T17:07:35.300Z"
   },
   {
    "duration": 12,
    "start_time": "2025-01-22T17:23:07.803Z"
   },
   {
    "duration": 12,
    "start_time": "2025-01-22T17:23:07.816Z"
   },
   {
    "duration": 1262,
    "start_time": "2025-01-22T17:23:07.829Z"
   },
   {
    "duration": 0,
    "start_time": "2025-01-22T17:23:09.093Z"
   },
   {
    "duration": 0,
    "start_time": "2025-01-22T17:23:09.094Z"
   },
   {
    "duration": 0,
    "start_time": "2025-01-22T17:23:09.095Z"
   },
   {
    "duration": 0,
    "start_time": "2025-01-22T17:23:09.096Z"
   },
   {
    "duration": 0,
    "start_time": "2025-01-22T17:23:09.097Z"
   },
   {
    "duration": 0,
    "start_time": "2025-01-22T17:23:09.098Z"
   },
   {
    "duration": 0,
    "start_time": "2025-01-22T17:23:09.099Z"
   },
   {
    "duration": 0,
    "start_time": "2025-01-22T17:23:09.120Z"
   },
   {
    "duration": 0,
    "start_time": "2025-01-22T17:23:09.121Z"
   },
   {
    "duration": 0,
    "start_time": "2025-01-22T17:23:09.122Z"
   },
   {
    "duration": 0,
    "start_time": "2025-01-22T17:23:09.123Z"
   },
   {
    "duration": 0,
    "start_time": "2025-01-22T17:23:09.124Z"
   },
   {
    "duration": 0,
    "start_time": "2025-01-22T17:23:09.125Z"
   },
   {
    "duration": 0,
    "start_time": "2025-01-22T17:23:09.126Z"
   },
   {
    "duration": 0,
    "start_time": "2025-01-22T17:23:09.127Z"
   },
   {
    "duration": 0,
    "start_time": "2025-01-22T17:23:09.128Z"
   },
   {
    "duration": 0,
    "start_time": "2025-01-22T17:23:09.129Z"
   },
   {
    "duration": 0,
    "start_time": "2025-01-22T17:23:09.130Z"
   },
   {
    "duration": 0,
    "start_time": "2025-01-22T17:23:09.131Z"
   },
   {
    "duration": 5,
    "start_time": "2025-01-22T17:24:59.666Z"
   },
   {
    "duration": 5,
    "start_time": "2025-01-22T17:25:22.915Z"
   },
   {
    "duration": 1741,
    "start_time": "2025-01-22T17:25:55.025Z"
   },
   {
    "duration": 2,
    "start_time": "2025-01-22T17:25:56.768Z"
   },
   {
    "duration": 2044,
    "start_time": "2025-01-22T17:25:56.772Z"
   },
   {
    "duration": 10,
    "start_time": "2025-01-22T17:25:58.819Z"
   },
   {
    "duration": 6,
    "start_time": "2025-01-22T17:25:58.831Z"
   },
   {
    "duration": 43,
    "start_time": "2025-01-22T17:25:58.838Z"
   },
   {
    "duration": 295,
    "start_time": "2025-01-22T17:25:58.883Z"
   },
   {
    "duration": 7,
    "start_time": "2025-01-22T17:25:59.179Z"
   },
   {
    "duration": 311,
    "start_time": "2025-01-22T17:25:59.188Z"
   },
   {
    "duration": 9,
    "start_time": "2025-01-22T17:25:59.502Z"
   },
   {
    "duration": 170,
    "start_time": "2025-01-22T17:25:59.512Z"
   },
   {
    "duration": 2959,
    "start_time": "2025-01-22T17:25:59.684Z"
   },
   {
    "duration": 18,
    "start_time": "2025-01-22T17:26:02.644Z"
   },
   {
    "duration": 101,
    "start_time": "2025-01-22T17:26:02.664Z"
   },
   {
    "duration": 931367,
    "start_time": "2025-01-22T17:26:02.774Z"
   },
   {
    "duration": 36,
    "start_time": "2025-01-22T17:41:34.143Z"
   },
   {
    "duration": 17,
    "start_time": "2025-01-22T17:41:34.181Z"
   },
   {
    "duration": 1213,
    "start_time": "2025-01-22T17:41:34.199Z"
   },
   {
    "duration": 0,
    "start_time": "2025-01-22T17:41:35.413Z"
   },
   {
    "duration": 0,
    "start_time": "2025-01-22T17:41:35.415Z"
   },
   {
    "duration": 0,
    "start_time": "2025-01-22T17:41:35.416Z"
   },
   {
    "duration": 0,
    "start_time": "2025-01-22T17:41:35.417Z"
   },
   {
    "duration": 0,
    "start_time": "2025-01-22T17:41:35.418Z"
   },
   {
    "duration": 0,
    "start_time": "2025-01-22T17:41:35.419Z"
   },
   {
    "duration": 0,
    "start_time": "2025-01-22T17:41:35.440Z"
   },
   {
    "duration": 0,
    "start_time": "2025-01-22T17:41:35.441Z"
   },
   {
    "duration": 0,
    "start_time": "2025-01-22T17:41:35.442Z"
   },
   {
    "duration": 0,
    "start_time": "2025-01-22T17:41:35.443Z"
   },
   {
    "duration": 0,
    "start_time": "2025-01-22T17:41:35.445Z"
   },
   {
    "duration": 0,
    "start_time": "2025-01-22T17:41:35.455Z"
   },
   {
    "duration": 0,
    "start_time": "2025-01-22T17:41:35.458Z"
   },
   {
    "duration": 0,
    "start_time": "2025-01-22T17:41:35.459Z"
   },
   {
    "duration": 0,
    "start_time": "2025-01-22T17:41:35.461Z"
   },
   {
    "duration": 0,
    "start_time": "2025-01-22T17:41:35.462Z"
   },
   {
    "duration": 0,
    "start_time": "2025-01-22T17:41:35.463Z"
   },
   {
    "duration": 0,
    "start_time": "2025-01-22T17:41:35.473Z"
   },
   {
    "duration": 0,
    "start_time": "2025-01-22T17:41:35.478Z"
   },
   {
    "duration": 1240,
    "start_time": "2025-01-22T17:42:10.193Z"
   },
   {
    "duration": 1276,
    "start_time": "2025-01-22T17:42:22.802Z"
   },
   {
    "duration": 1779,
    "start_time": "2025-01-22T17:42:29.310Z"
   },
   {
    "duration": 3,
    "start_time": "2025-01-22T17:42:31.091Z"
   },
   {
    "duration": 998,
    "start_time": "2025-01-22T17:42:31.099Z"
   },
   {
    "duration": 10,
    "start_time": "2025-01-22T17:42:32.099Z"
   },
   {
    "duration": 8,
    "start_time": "2025-01-22T17:42:32.111Z"
   },
   {
    "duration": 58,
    "start_time": "2025-01-22T17:42:32.120Z"
   },
   {
    "duration": 269,
    "start_time": "2025-01-22T17:42:32.180Z"
   },
   {
    "duration": 10,
    "start_time": "2025-01-22T17:42:32.455Z"
   },
   {
    "duration": 335,
    "start_time": "2025-01-22T17:42:32.468Z"
   },
   {
    "duration": 9,
    "start_time": "2025-01-22T17:42:32.805Z"
   },
   {
    "duration": 183,
    "start_time": "2025-01-22T17:42:32.816Z"
   },
   {
    "duration": 2961,
    "start_time": "2025-01-22T17:42:33.001Z"
   },
   {
    "duration": 5,
    "start_time": "2025-01-22T17:42:35.964Z"
   },
   {
    "duration": 35,
    "start_time": "2025-01-22T17:42:35.970Z"
   },
   {
    "duration": 535714,
    "start_time": "2025-01-22T17:42:36.007Z"
   },
   {
    "duration": 8,
    "start_time": "2025-01-22T17:51:31.722Z"
   },
   {
    "duration": 48,
    "start_time": "2025-01-22T17:51:31.731Z"
   },
   {
    "duration": 95,
    "start_time": "2025-01-22T17:51:31.783Z"
   },
   {
    "duration": 12,
    "start_time": "2025-01-22T17:51:31.880Z"
   },
   {
    "duration": 401,
    "start_time": "2025-01-22T17:51:31.894Z"
   },
   {
    "duration": 3,
    "start_time": "2025-01-22T17:51:32.297Z"
   },
   {
    "duration": 15,
    "start_time": "2025-01-22T17:51:32.301Z"
   },
   {
    "duration": 3,
    "start_time": "2025-01-22T17:51:32.318Z"
   },
   {
    "duration": 48,
    "start_time": "2025-01-22T17:51:32.322Z"
   },
   {
    "duration": 65,
    "start_time": "2025-01-22T17:51:32.372Z"
   },
   {
    "duration": 147,
    "start_time": "2025-01-22T17:51:32.439Z"
   },
   {
    "duration": 86,
    "start_time": "2025-01-22T17:51:32.589Z"
   },
   {
    "duration": 344,
    "start_time": "2025-01-22T17:51:32.677Z"
   },
   {
    "duration": 10,
    "start_time": "2025-01-22T17:51:33.023Z"
   },
   {
    "duration": 5537,
    "start_time": "2025-01-22T17:51:33.035Z"
   },
   {
    "duration": 4,
    "start_time": "2025-01-22T17:51:38.573Z"
   },
   {
    "duration": 1018488,
    "start_time": "2025-01-22T17:51:38.578Z"
   },
   {
    "duration": 4,
    "start_time": "2025-01-22T18:08:37.068Z"
   },
   {
    "duration": 20,
    "start_time": "2025-01-22T18:08:37.073Z"
   },
   {
    "duration": 37561,
    "start_time": "2025-01-22T18:08:37.095Z"
   },
   {
    "duration": 90,
    "start_time": "2025-01-22T18:09:14.658Z"
   },
   {
    "duration": 258,
    "start_time": "2025-01-22T18:09:14.757Z"
   },
   {
    "duration": 3805,
    "start_time": "2025-01-22T18:09:15.018Z"
   },
   {
    "duration": 150,
    "start_time": "2025-01-22T18:09:36.973Z"
   },
   {
    "duration": 2806,
    "start_time": "2025-01-22T18:09:47.073Z"
   },
   {
    "duration": 28,
    "start_time": "2025-01-22T18:09:51.176Z"
   },
   {
    "duration": 31783,
    "start_time": "2025-01-22T18:10:40.191Z"
   },
   {
    "duration": 2823,
    "start_time": "2025-01-22T18:17:51.001Z"
   },
   {
    "duration": 71,
    "start_time": "2025-01-22T18:17:54.726Z"
   },
   {
    "duration": 18,
    "start_time": "2025-01-22T18:18:03.800Z"
   },
   {
    "duration": 30734,
    "start_time": "2025-01-22T18:18:16.702Z"
   },
   {
    "duration": 2906,
    "start_time": "2025-01-22T18:21:48.181Z"
   },
   {
    "duration": 720,
    "start_time": "2025-01-22T18:21:51.089Z"
   },
   {
    "duration": 31583,
    "start_time": "2025-01-22T18:21:51.810Z"
   }
  ],
  "kernelspec": {
   "display_name": "Python 3 (ipykernel)",
   "language": "python",
   "name": "python3"
  },
  "language_info": {
   "codemirror_mode": {
    "name": "ipython",
    "version": 3
   },
   "file_extension": ".py",
   "mimetype": "text/x-python",
   "name": "python",
   "nbconvert_exporter": "python",
   "pygments_lexer": "ipython3",
   "version": "3.9.5"
  },
  "toc": {
   "base_numbering": 1,
   "nav_menu": {},
   "number_sections": true,
   "sideBar": true,
   "skip_h1_title": true,
   "title_cell": "Содержание",
   "title_sidebar": "Contents",
   "toc_cell": true,
   "toc_position": {
    "height": "calc(100% - 180px)",
    "left": "10px",
    "top": "150px",
    "width": "165px"
   },
   "toc_section_display": true,
   "toc_window_display": true
  }
 },
 "nbformat": 4,
 "nbformat_minor": 2
}
